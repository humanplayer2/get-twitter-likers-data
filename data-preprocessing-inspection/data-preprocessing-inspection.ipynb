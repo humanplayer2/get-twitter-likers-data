{
 "cells": [
  {
   "cell_type": "markdown",
   "id": "e2fb5e40-ab19-44f9-9b44-7e0ce4832508",
   "metadata": {},
   "source": [
    "### Data Preprocessing and Inspection\n",
    "#### Structure of this notebook:  \n",
    "    **Aggregating the data into a dataset:** \n",
    "      \n",
    "    A. Preprocessing  \n",
    "      \n",
    "    **Exploring the data and descriptive statistics:**   \n",
    "      \n",
    "    B. Understanding the Likers & Retweeters datasets  \n",
    "    C. Understanding script performance\n",
    "    D. Understanding user activity"
   ]
  },
  {
   "cell_type": "code",
   "execution_count": null,
   "id": "06e835fb-3e5e-4dd6-8d09-3106baf60722",
   "metadata": {},
   "outputs": [],
   "source": [
    "import os\n",
    "import glob\n",
    "import json\n",
    "import pandas as pd\n",
    "import csv\n",
    "import numpy as np\n",
    "import warnings\n",
    "warnings.simplefilter(action='ignore', category=FutureWarning)\n",
    "warnings.simplefilter(action='ignore', category=pd.errors.PerformanceWarning)\n",
    "import itertools\n",
    "from matplotlib import pyplot as plt\n",
    "from collections import Counter\n",
    "from ast import literal_eval "
   ]
  },
  {
   "cell_type": "markdown",
   "id": "eac44e19-3c7f-4486-94a5-f167b46e8cba",
   "metadata": {},
   "source": [
    "## A. Preprocessing "
   ]
  },
  {
   "cell_type": "markdown",
   "id": "541d873b-dc5b-412a-b4f6-6de88428ccf4",
   "metadata": {},
   "source": [
    "#### Prelims and aggregating all likers/retweeters files including the final harvest data into like/retweet-tweet matrices.   \n",
    "#### Where likers/retweeters are listed in columns, and tweet-IDs in rows.  \n",
    "#### Entry[tweet_i,liker_j] evaluates to 1, if liker_j has liked tweet_i."
   ]
  },
  {
   "cell_type": "code",
   "execution_count": null,
   "id": "5fdca6be-07fa-4f10-9134-70a6a54ac4b5",
   "metadata": {},
   "outputs": [],
   "source": [
    "#TODO: What is your pull-folder called?\n",
    "my_pull = ' ' # pull folder name: Pull-DD-MM-YYY-hour:minute:second"
   ]
  },
  {
   "cell_type": "code",
   "execution_count": null,
   "id": "5b15f6b0-ccc4-4227-8150-81b16bc0365b",
   "metadata": {},
   "outputs": [],
   "source": [
    "# list all likers/retweeters files\n",
    "# TODO: adjust path to your pull-folder! \n",
    "filenames_l = glob.glob(os.path.join(my_pull,'CSVs/Likers_of_alarms/*ikers*')) \n",
    "filenames_r = glob.glob(os.path.join(my_pull,'CSVs/Retweeters_of_alarms/*etweeters*'))"
   ]
  },
  {
   "cell_type": "code",
   "execution_count": null,
   "id": "49e304f0-74e1-4c67-92c2-1f1d0b3ca2b6",
   "metadata": {},
   "outputs": [],
   "source": [
    "# Import all csvs and convert to pkl files\n",
    "# likers:\n",
    "for file in filenames_l:\n",
    "    likers = pd.read_csv(file, converters={\"likers\": literal_eval})\n",
    "    file = file.replace(\"csv\",\"pkl\")\n",
    "    likers.to_pickle(file)"
   ]
  },
  {
   "cell_type": "code",
   "execution_count": null,
   "id": "d61dba84-439d-4574-a345-d419d3fe76a6",
   "metadata": {},
   "outputs": [],
   "source": [
    "# retweeters:\n",
    "for file in filenames_r:\n",
    "    retweeters = pd.read_csv(file, converters={\"retweeters\": literal_eval})\n",
    "    file = file.replace(\"csv\",\"pkl\")\n",
    "    retweeters.to_pickle(file)"
   ]
  },
  {
   "cell_type": "code",
   "execution_count": null,
   "id": "7db8caf6-f215-40dc-8bfc-f0871fbd421b",
   "metadata": {},
   "outputs": [],
   "source": [
    "# load all pkl file names\n",
    "pkl_l = glob.glob(os.path.join(my_pull,'CSVs/Likers_of_alarms/*pkl')) # all pkl file names \n",
    "pkl_r = glob.glob(os.path.join(my_pull,'CSVs/Retweeters_of_alarms/*pkl')) # all pkl file names "
   ]
  },
  {
   "cell_type": "code",
   "execution_count": null,
   "id": "22cbf090-e058-4bb5-80fb-233bbf6d274d",
   "metadata": {},
   "outputs": [],
   "source": [
    "# read pkl files, set tweet id as index (makes data handling and indexing way easier), make vote dataframe\n",
    "# Aggregate votes in dataframe: tweet ID as row index, user names as column headings\n",
    "likers_incomplete = pd.DataFrame()\n",
    "\n",
    "for files in pkl_l:\n",
    "\n",
    "    df = pd.read_pickle(files)\n",
    "    df.set_index('Unnamed: 0', inplace = True)\n",
    "    \n",
    "    for tweet in df.index:      \n",
    "            for user in df.at[tweet,'likers']:\n",
    "                likers_incomplete.at[tweet, user] = 1 "
   ]
  },
  {
   "cell_type": "code",
   "execution_count": null,
   "id": "137509be-f445-4322-aa1f-a0e5b71b7fcf",
   "metadata": {},
   "outputs": [],
   "source": [
    "# same as above for retweeters\n",
    "retweeters_incomplete = pd.DataFrame()\n",
    "\n",
    "for files in pkl_r:\n",
    "\n",
    "    df = pd.read_pickle(files)\n",
    "    df.set_index('Unnamed: 0', inplace = True)\n",
    "    \n",
    "    for tweet in df.index:      \n",
    "            for user in df.at[tweet,'retweeters']:\n",
    "                retweeters_incomplete.at[tweet, user] = 1 "
   ]
  },
  {
   "cell_type": "markdown",
   "id": "fc835b20-e316-478c-a0ab-3dace32c6dcf",
   "metadata": {},
   "source": [
    "#### Add final harvest data to dataframe"
   ]
  },
  {
   "cell_type": "code",
   "execution_count": null,
   "id": "a170eb1d-ad6f-4f09-8fcc-2542ecc4d122",
   "metadata": {},
   "outputs": [],
   "source": [
    "# likes\n",
    "finalharvest_l = pd.read_pickle(os.path.join(my_pull,'likers_final_harvest_complete.pkl')) # We use a file to keep track of the log so we can remember position if we need to restart due to error"
   ]
  },
  {
   "cell_type": "code",
   "execution_count": null,
   "id": "9a7197b3-9f1c-4da3-a87a-1bef47f8e390",
   "metadata": {},
   "outputs": [],
   "source": [
    "# retweets\n",
    "finalharvest_r = pd.read_pickle(os.path.join(my_pull,'retweeters_final_harvest_complete.pkl')) # We use a file to keep track of the log so we can remember position if we need to restart due to error"
   ]
  },
  {
   "cell_type": "code",
   "execution_count": null,
   "id": "2cf27c16-04fc-4e3a-a556-319e604aee41",
   "metadata": {},
   "outputs": [],
   "source": [
    "# add final harvest to dataframe\n",
    "for tweet in finalharvest_l.index:      \n",
    "    for user in finalharvest_l.at[tweet,'likers']:\n",
    "                likers_incomplete.at[tweet, user] = 1 "
   ]
  },
  {
   "cell_type": "code",
   "execution_count": null,
   "id": "2fd92384-6580-4551-baea-fd7dafeb3bf2",
   "metadata": {},
   "outputs": [],
   "source": [
    "# As above for retweets            \n",
    "for tweet in finalharvest_r.index:      \n",
    "    for user in finalharvest_r.at[tweet,'retweeters']:\n",
    "                retweeters_incomplete.at[tweet, user] = 1 "
   ]
  },
  {
   "cell_type": "code",
   "execution_count": null,
   "id": "28011206-fb41-4534-a35f-69d42edb5f6a",
   "metadata": {},
   "outputs": [],
   "source": [
    "likers_complete = likers_incomplete\n",
    "retweeters_complete = retweeters_incomplete"
   ]
  },
  {
   "cell_type": "markdown",
   "id": "43298b66-3a31-4b73-87d6-7ec6fef53b56",
   "metadata": {},
   "source": [
    "#### Save complete datasets: likers and retweeters"
   ]
  },
  {
   "cell_type": "code",
   "execution_count": null,
   "id": "39637a5f-b45d-4195-aa2c-bc4e872ad00b",
   "metadata": {},
   "outputs": [],
   "source": [
    "# Now dataset complete, save as csv so it can also be passed on to data analysis\n",
    "# TODO: name file\n",
    "likers_complete.to_csv('like_votes_with_final_harvest_XXX.csv')\n",
    "retweeters_complete.to_csv('retweets_votes_with_final_harvest_XXX.csv')"
   ]
  },
  {
   "cell_type": "markdown",
   "id": "d1125e1f-c1b9-44ca-b9a7-948782eea205",
   "metadata": {},
   "source": [
    "## B. Understanding the Likers & Retweeters datasets: Exploring the data/descriptive statistics"
   ]
  },
  {
   "cell_type": "code",
   "execution_count": null,
   "id": "04bfe709-9260-4703-b858-2b69de58ab0a",
   "metadata": {},
   "outputs": [],
   "source": [
    "# If A. was run, then load data\n",
    "likers_complete = pd.read_csv('like_votes_with_final_harvest_XXX.csv')"
   ]
  },
  {
   "cell_type": "code",
   "execution_count": null,
   "id": "3b3dbddb-f1ef-4b09-81f3-25238cb73ce0",
   "metadata": {},
   "outputs": [],
   "source": [
    "pd.options.display.float_format = '{:.2f}'.format\n",
    "likers_complete.set_index('Unnamed: 0', inplace = True)\n",
    "likers_complete.index.names = ['tweet']"
   ]
  },
  {
   "cell_type": "code",
   "execution_count": null,
   "id": "30c3c42b-4708-457b-a95f-6f0224d53ce2",
   "metadata": {},
   "outputs": [],
   "source": [
    "retweeters_complete = pd.read_csv('retweets_votes_with_final_harvest_XXX.csv')"
   ]
  },
  {
   "cell_type": "code",
   "execution_count": null,
   "id": "300fb998-a064-45af-9061-48c2b9135073",
   "metadata": {},
   "outputs": [],
   "source": [
    "pd.options.display.float_format = '{:.2f}'.format\n",
    "retweeters_complete.set_index('Unnamed: 0', inplace = True)\n",
    "retweeters_complete.index.names = ['tweet']"
   ]
  },
  {
   "cell_type": "code",
   "execution_count": null,
   "id": "644189c2-72a5-44b9-abeb-ee63d58a1c2a",
   "metadata": {},
   "outputs": [],
   "source": [
    "# Number of all placed likes\n",
    "numberlikes_rows = likers_complete.sum(axis = 1, skipna = True) \n",
    "sum(numberlikes_rows)"
   ]
  },
  {
   "cell_type": "code",
   "execution_count": null,
   "id": "26c27dc4-b2be-4ee1-a638-0a0f07a9e6e6",
   "metadata": {},
   "outputs": [],
   "source": [
    "# Number of all placed retweets\n",
    "numberretweets_rows = retweeters_complete.sum(axis = 1, skipna = True) \n",
    "sum(numberretweets_rows)"
   ]
  },
  {
   "cell_type": "code",
   "execution_count": null,
   "id": "a32aae22-b56c-408b-9de7-e9475923ae1e",
   "metadata": {},
   "outputs": [],
   "source": [
    "# sanity check \n",
    "numberlikes_col = likers_complete.sum(axis = 0, skipna = True) # sanity check\n",
    "sum(numberlikes_col)"
   ]
  },
  {
   "cell_type": "code",
   "execution_count": null,
   "id": "c41aeeaa-d1cf-4445-9c84-fa05f2c61964",
   "metadata": {},
   "outputs": [],
   "source": [
    "numberretweets_col = retweeters_complete.sum(axis = 0, skipna = True) # sanity check\n",
    "sum(numberretweets_col)"
   ]
  },
  {
   "cell_type": "code",
   "execution_count": null,
   "id": "a2c56a34-4fb9-446f-ba37-01adf70ba37e",
   "metadata": {},
   "outputs": [],
   "source": [
    "# How many tweets were subject to collection in the final harvest?: those tweets that were subject to final data collection \n",
    "# in the final harvest (see parameters my_likersAtLeast)\n",
    "my_likersAtLeast = # SET PARAMETER HERE\n",
    "sum(numberlikes_rows >= my_likersAtLeast) \n",
    "# this is the number of tweets with at least my_likersAtLeast likes"
   ]
  },
  {
   "cell_type": "code",
   "execution_count": null,
   "id": "7f27c518-bc5c-492f-9971-9bf733c658c2",
   "metadata": {},
   "outputs": [],
   "source": [
    "# How many tweets were subject to collection in the final harvest?: those tweets that were subject to final data collection \n",
    "# in the final harvest (see parameters my_retweetersAtLeast)\n",
    "my_retweetersAtLeast = # SET PARAMETER HERE\n",
    "sum(numberretweets_rows>=my_retweetersAtLeast) \n",
    "# this is the number of tweets with at least my_retweetersAtLeast retweets"
   ]
  },
  {
   "cell_type": "markdown",
   "id": "6d9351ef-8e1b-4ec9-bc97-7145b564c7ef",
   "metadata": {},
   "source": [
    "## C. Understanding script performance"
   ]
  },
  {
   "cell_type": "markdown",
   "id": "7148ba7a-de21-4c14-81cf-c78c76aaceeb",
   "metadata": {},
   "source": [
    "### How many likers/retweeters did the script curate? Dataset comprising those tweets that were one last time collected in the final harvest"
   ]
  },
  {
   "cell_type": "code",
   "execution_count": null,
   "id": "24f493a1-de89-407d-863f-544f18012287",
   "metadata": {},
   "outputs": [],
   "source": [
    "subset_likerscomplete = likers_complete.loc[finalharvest_l.index, :]  \n",
    "subset_retweeterscomplete = retweeters_complete.loc[finalharvest_r.index, :]"
   ]
  },
  {
   "cell_type": "code",
   "execution_count": null,
   "id": "19c32f14-4495-4f66-98d4-6667428e7362",
   "metadata": {},
   "outputs": [],
   "source": [
    "# like count at time of final harvest\n",
    "likecount = finalharvest_l['like_count']\n",
    "# number of collected likers \n",
    "likerscollected = subset_likerscomplete.sum(axis = 1, skipna = True) \n",
    "# retweet count at time of final harvest\n",
    "retweetcount = finalharvest_r['retweet_count']\n",
    "# number of collected retweeters\n",
    "retweeterscollected = subset_retweeterscomplete.sum(axis = 1, skipna = True) "
   ]
  },
  {
   "cell_type": "code",
   "execution_count": null,
   "id": "1ada5939-b469-420e-abd8-d02dc23e2363",
   "metadata": {},
   "outputs": [],
   "source": [
    "# Absolute number of missed likes/retweets per tweet\n",
    "fig, ax = plt.subplots(figsize =(18, 10)) \n",
    "\n",
    "plt.plot(list(range(0,len(likecount),1)),likecount-likerscollected, label = 'Missed likes', alpha = 0.7, linewidth = .5)\n",
    "plt.plot(list(range(0,len(retweetcount),1)),retweetcount-retweeterscollected, label = 'Missed retweets', alpha = 0.9, linewidth = .5)\n",
    "plt.legend(loc=\"upper right\", prop={'size': 10})\n",
    "\n",
    "ax.set_xlabel(\"Tweets\")\n",
    "ax.set_ylabel('Likes/retweeters not collected')"
   ]
  },
  {
   "cell_type": "code",
   "execution_count": null,
   "id": "fda33e12-b031-4fc2-b802-b3c2bab140b0",
   "metadata": {},
   "outputs": [],
   "source": [
    "# Share of missed likes/retweets given total of received likes/retweets per tweet\n",
    "fig, ax = plt.subplots(figsize =(20, 10)) \n",
    "\n",
    "plt.plot(list(range(0,len(natural_likecount),1)),((natural_likecount-natural_likerscollected)/natural_likecount), label = 'Missed likes', alpha = 0.7, linewidth = .5)\n",
    "plt.plot(list(range(0,len(retweetcount),1)),((retweetcount-retweeterscollected)/retweetcount), label = 'Missed retweets', alpha = 0.6, linewidth = .5)\n",
    "\n",
    "plt.legend(loc=\"upper right\", prop={'size': 10})\n",
    "\n",
    "ax.set_xlabel(\"Tweets\")\n",
    "ax.set_ylabel('Share of likers/retweeters per tweet not collected')"
   ]
  },
  {
   "cell_type": "code",
   "execution_count": null,
   "id": "c98af9bb-c8dc-41fc-a4bc-deb7f3e007aa",
   "metadata": {},
   "outputs": [],
   "source": [
    "# Supplemented with total number of likes/retweets each tweet attracted: \n",
    "xvalretweeters = list(range(1,len(retweetcount)+1,1))\n",
    "xvallikers= list(range(1,len(likecount)+1,1))\n",
    "\n",
    "SMALL_SIZE = 8\n",
    "MEDIUM_SIZE = 16\n",
    "BIGGER_SIZE = 12\n",
    "\n",
    "plt.rc('font', size=MEDIUM_SIZE)          # controls default text sizes\n",
    "plt.rc('axes', titlesize=MEDIUM_SIZE)     # fontsize of the axes title\n",
    "plt.rc('axes', labelsize=MEDIUM_SIZE)     # fontsize of the x and y labels\n",
    "plt.rc('xtick', labelsize=MEDIUM_SIZE)    # fontsize of the tick labels\n",
    "plt.rc('ytick', labelsize=MEDIUM_SIZE)    # fontsize of the tick labels\n",
    "plt.rc('legend', fontsize=MEDIUM_SIZE)    # legend fontsize\n",
    "\n",
    "fig, (ax1, ax2) = plt.subplots(2, 1, sharex=True, figsize =(18, 10))\n",
    "\n",
    "fig.subplots_adjust(hspace=0.05)  # adjust space between axes\n",
    "\n",
    "# plot the same data on both axes (broken axis can accomodate for outliers this way)\n",
    "ax1.plot(xvalretweeters, (retweetcount-retweeterscollected)/retweetcount, label = 'retweets', alpha = .8, color='tab:orange', linewidth = 0.5)\n",
    "ax1.plot(xvallikers, (likecount-likerscollected)/likecount, label = 'likes', alpha = .6, color = 'tab:blue', linewidth=.5)\n",
    "\n",
    "\n",
    "ax2.plot(xvallikers, (likecount-likerscollected)/likecount, label = 'Received likes', alpha = 0.6, color = 'tab:blue', linewidth = .5)\n",
    "ax3 = ax1.twinx()\n",
    "ax3.plot(xvallikers, likesseries, label = 'Received likes', alpha = 0.8, color = 'tab:blue', linestyle='dotted')\n",
    "ax3.plot(xvalretweeters, retweetsseries, label = 'Received retweets', alpha = 0.8, color = 'tab:orange', linestyle='dotted')\n",
    "\n",
    "ax2.set_xlabel(\"Tweets\")\n",
    "\n",
    "\n",
    "# zoom-in / limit the view to different portions of the data\n",
    "ax2.set_ylim(-4.09, -4.0)  # outliers only\n",
    "ax1.set_ylim(-1.3, .7)  # most of the data (-1.3, .7\n",
    "\n",
    "    # hide the spines between ax and ax2\n",
    "ax1.spines.bottom.set_visible(False)\n",
    "ax2.spines.top.set_visible(False)\n",
    "ax3.spines.bottom.set_visible(False)\n",
    "ax1.xaxis.tick_top()\n",
    "ax1.tick_params(labeltop=False)  # don't put tick labels at the top\n",
    "ax3.tick_params(labeltop=False)  # don't put tick labels at the top\n",
    "ax2.tick_params(labeltop=False)  # don't put tick labels at the top\n",
    "\n",
    "ax2.xaxis.tick_bottom()\n",
    "\n",
    "d = .2  # proportion of vertical to horizontal extent of the slanted line\n",
    "kwargs = dict(marker=[(-1, -d), (1, d)], markersize=12,\n",
    "              linestyle=\"none\", color='k', mec='k', mew=1, clip_on=False)\n",
    "ax1.plot([0, 1], [0, 0], transform=ax1.transAxes, **kwargs)\n",
    "ax2.plot([0, 1], [1, 1], transform=ax2.transAxes, **kwargs)\n",
    "\n",
    "ax1.set_ylabel('Share of likes/retweets not collected (lines)')\n",
    "ax3.set_ylabel('Received likes/retweets (dotted)')\n",
    "\n",
    "ax1.legend(['Retweets', 'Likes'], loc = 'upper right',  prop={'size': 13})\n",
    "\n",
    "plt.savefig('howmanymissed.pdf', bbox_inches='tight')"
   ]
  },
  {
   "cell_type": "code",
   "execution_count": null,
   "id": "a9f88d1d-7cf9-4798-abb0-ee3d3fd97648",
   "metadata": {},
   "outputs": [],
   "source": [
    "# inspect numbers more closely\n",
    "d = {'collectedlikers': likerscollected, 'likecount': likecount, 'difference': likecount-likerscollected, 'percent': ((likecount-likerscollected)/likecount)}\n",
    "inspectlikes = pd.DataFrame(data=d)\n",
    "inspectlikes"
   ]
  },
  {
   "cell_type": "code",
   "execution_count": null,
   "id": "77373940-c22d-4607-b6c3-adc2e4d64539",
   "metadata": {},
   "outputs": [],
   "source": [
    "# inspect numbers more closely\n",
    "d = {'collectedretweeters': retweeterscollected, 'retweetcount': retweetcount, 'difference': retweetcount-retweeterscollected, 'percent': ((retweetcount-retweeterscollected)/retweetcount)}\n",
    "inspectretweets = pd.DataFrame(data=d)\n",
    "inspectretweets"
   ]
  },
  {
   "cell_type": "code",
   "execution_count": null,
   "id": "6812a306-c70f-4422-a2b8-2a542398cb6a",
   "metadata": {},
   "outputs": [],
   "source": [
    "# *retracted likes*\n",
    "# In <len(neg)/len(inspectlikes)> % the script collects 10 likes or more too many\n",
    "neg = inspectlikes[inspectlikes['difference'] <-10]\n",
    "len(neg)/len(inspectlikes) "
   ]
  },
  {
   "cell_type": "code",
   "execution_count": null,
   "id": "8016da5b-f670-4d64-90ec-3bebdf7519c2",
   "metadata": {},
   "outputs": [],
   "source": [
    "# *retracted retweets*\n",
    "# In <len(neg)/len(inspectretweets)> the script collects 10 retweets or more too many\n",
    "neg = inspectretweets[inspectretweets['difference'] <-10]\n",
    "len(neg)/len(inspectretweets) "
   ]
  },
  {
   "cell_type": "code",
   "execution_count": null,
   "id": "4af725a0-0fc4-4e57-8219-7e1b647811ca",
   "metadata": {},
   "outputs": [],
   "source": [
    "# *likes placed in large, simulanous batches* \n",
    "# In <len(pos)/len(inspectlikes)> % of tweets the script misses out on 10 or more likes\n",
    "pos = inspectlikes[inspectlikes['difference'] >10]\n",
    "len(pos)/len(inspectlikes)"
   ]
  },
  {
   "cell_type": "code",
   "execution_count": null,
   "id": "f245fec1-ecbb-4f3c-aabf-3be366cee386",
   "metadata": {},
   "outputs": [],
   "source": [
    "# *retweets placed in large, simulanous batches* \n",
    "# In <len(pos)/len(inspectretweets)> % of tweets the script misses out on 10 or more retweets\n",
    "pos = inspectretweets[inspectretweets['difference'] >10]\n",
    "len(pos)/len(inspectretweets)"
   ]
  },
  {
   "cell_type": "code",
   "execution_count": null,
   "id": "bc9c2d84-b91d-4f21-b623-a70835ff6054",
   "metadata": {},
   "outputs": [],
   "source": [
    "# # likes placed in large, simulanous batches\n",
    "# In <len(pos)/len(inspectlikes)> % of tweets the script misses out on more than 10% of likes\n",
    "pos = inspectlikes[inspectlikes['percent'] >.1]\n",
    "len(pos)/len(inspectlikes)"
   ]
  },
  {
   "cell_type": "code",
   "execution_count": null,
   "id": "1d0e83cf-1b04-4965-8f3b-5c5b5d503987",
   "metadata": {},
   "outputs": [],
   "source": [
    "# *retracted likes*\n",
    "# In <len(pos)/len(inspectlikes)> % the script collects 10% or more too many likes\n",
    "pos = inspectlikes[inspectlikes['percent'] <-.1]\n",
    "len(pos)/len(inspectlikes)"
   ]
  },
  {
   "cell_type": "code",
   "execution_count": null,
   "id": "0884fe4c-6d0a-4357-95b3-4b201c65d8d5",
   "metadata": {},
   "outputs": [],
   "source": [
    "# *retracted retweets*\n",
    "# In <len(pos)/len(inspectretweets)> % the script collects 10% or more too many retweets\n",
    "pos = inspectretweets[inspectretweets['percent'] >.1] \n",
    "len(pos)/len(inspectretweets)"
   ]
  },
  {
   "cell_type": "code",
   "execution_count": null,
   "id": "e6103c7a-ac0a-46e8-8513-cdb50fd496b4",
   "metadata": {},
   "outputs": [],
   "source": [
    "# In <len(pos)/len(inspectretweets)> % of tweets the script misses out on more than 10% of retweets\n",
    "pos = inspectretweets[inspectretweets['percent'] <-.1] \n",
    "len(pos)/len(inspectretweets)"
   ]
  },
  {
   "cell_type": "code",
   "execution_count": null,
   "id": "dcd1598f-ab65-43dc-a127-92aaa34e1d87",
   "metadata": {},
   "outputs": [],
   "source": [
    "# The script collects \"too many\" likers in <len(notzero)/len(inspectlikes)> % of cases\n",
    "notzero = inspectlikes[inspectlikes['difference'] < 0]\n",
    "len(notzero)/len(inspectlikes)"
   ]
  },
  {
   "cell_type": "code",
   "execution_count": null,
   "id": "0116c2e1-9c19-44d5-b51c-17360b63edc5",
   "metadata": {},
   "outputs": [],
   "source": [
    "# The script collects \"too many\" retweeters in <len(notzero)/len(inspectretweets)> % of cases\n",
    "notzero = inspectretweets[inspectretweets['difference'] < 0]\n",
    "len(notzero)/len(inspectretweets)"
   ]
  },
  {
   "cell_type": "code",
   "execution_count": null,
   "id": "2a20bc12-cab4-4f72-90f7-53821d95cb76",
   "metadata": {},
   "outputs": [],
   "source": [
    "# The script collects the exactly right number of likers in in <len(notzero)/len(inspectlikes)> % of cases \n",
    "notzero = inspectlikes[inspectlikes['difference'] == 0]\n",
    "len(notzero)/len(inspectlikes)"
   ]
  },
  {
   "cell_type": "code",
   "execution_count": null,
   "id": "3d427010-75a4-4c05-8875-5dd1a6ea444b",
   "metadata": {},
   "outputs": [],
   "source": [
    "# The script collects the exactly right number of retweeters in in <len(notzero)/len(inspectretweets)> % of cases \n",
    "notzero = inspectretweets[inspectretweets['difference'] == 0]\n",
    "len(notzero)/len(inspectretweets)"
   ]
  },
  {
   "cell_type": "code",
   "execution_count": null,
   "id": "d5f59bfd-c9dd-4f15-8cc8-6c80e92edaf8",
   "metadata": {},
   "outputs": [],
   "source": [
    "# Inspect (highly popular) tweets in terms of like count\n",
    "likesseries = inspectlikes['likecount'].squeeze()\n",
    "likesseries"
   ]
  },
  {
   "cell_type": "code",
   "execution_count": null,
   "id": "d316f12f-bad5-48ef-a3b5-860c7a65d36e",
   "metadata": {},
   "outputs": [],
   "source": [
    "# Inspect (highly popular) tweets in terms of retweet count\n",
    "retweetsseries = inspectretweets['retweetcount'].squeeze()\n",
    "retweetsseries"
   ]
  },
  {
   "cell_type": "code",
   "execution_count": null,
   "id": "d3445feb-e74e-410d-ad83-abaeb88f4e35",
   "metadata": {},
   "outputs": [],
   "source": [
    "from statistics import median"
   ]
  },
  {
   "cell_type": "code",
   "execution_count": null,
   "id": "1d9efa16-0df8-4072-9373-28dd066361e8",
   "metadata": {},
   "outputs": [],
   "source": [
    "# Median like count\n",
    "median(inspectlikes['likecount'].squeeze())"
   ]
  },
  {
   "cell_type": "code",
   "execution_count": null,
   "id": "a3b85f6e-82a1-4cbe-a9ef-ac7dc33c69c7",
   "metadata": {},
   "outputs": [],
   "source": [
    "# Median retweet count\n",
    "median(inspectretweets['retweetcount'].squeeze())"
   ]
  },
  {
   "cell_type": "markdown",
   "id": "723c27e0-8015-4617-9aa2-903335970301",
   "metadata": {},
   "source": [
    "## D. Understanding user activity"
   ]
  },
  {
   "cell_type": "markdown",
   "id": "8c76e79d-591e-444b-a905-bccccebcd87e",
   "metadata": {},
   "source": [
    "### How many likes/retweets did the users place? How many unique likers/retweeters are in the dataset? "
   ]
  },
  {
   "cell_type": "code",
   "execution_count": null,
   "id": "08459ff9-34f2-4463-87fb-980681ae2c4f",
   "metadata": {},
   "outputs": [],
   "source": [
    "# Most active user placed <numberlikes_col.max()> likes\n",
    "numberlikes_col.max()"
   ]
  },
  {
   "cell_type": "code",
   "execution_count": null,
   "id": "5e8a1d4c-d332-4d32-a074-c9b2c96f500f",
   "metadata": {},
   "outputs": [],
   "source": [
    "# Most active user placed <numberlikes_col.max()> retweets\n",
    "numberretweets_col.max()"
   ]
  },
  {
   "cell_type": "code",
   "execution_count": null,
   "id": "7a25c54b-3ebd-4458-bd69-35676522690f",
   "metadata": {},
   "outputs": [],
   "source": [
    "# make frequency table\n",
    "freqlikers = numberlikes_col.value_counts()\n",
    "freqlikers\n",
    "\n",
    "freqretweeters = numberretweets_col.value_counts()\n",
    "freqretweeters"
   ]
  },
  {
   "cell_type": "code",
   "execution_count": null,
   "id": "7f6e4d2a-6f43-49f5-8f86-014a5307d21f",
   "metadata": {},
   "outputs": [],
   "source": [
    "x = np.array(numberlikes_col)\n",
    "placedlikes = np.unique(x)\n",
    "\n",
    "x = np.array(numberretweets_col)\n",
    "placedretweets = np.unique(x)"
   ]
  },
  {
   "cell_type": "code",
   "execution_count": null,
   "id": "0494fb0b-dbec-46a9-89d6-322f26530d0a",
   "metadata": {},
   "outputs": [],
   "source": [
    "# bring things together for frequency table\n",
    "d = {'placedlikes': placedlikes, 'freqlikers': freqlikers}\n",
    "freqtable_l = pd.DataFrame(data=d)\n",
    "freqtable_l\n",
    "\n",
    "# bring things together for frequency table\n",
    "d = {'placedretweets': placedretweets, 'freqretweeters': freqretweeters}\n",
    "freqtable_r = pd.DataFrame(data=d)\n",
    "freqtable_r"
   ]
  },
  {
   "cell_type": "code",
   "execution_count": null,
   "id": "2fcbf0a1-d3c8-43c6-857d-3e97903cc422",
   "metadata": {},
   "outputs": [],
   "source": [
    "plt.plot(freqtable_l['placedlikes'], freqtable['freqlikers'])"
   ]
  },
  {
   "cell_type": "code",
   "execution_count": null,
   "id": "806d366b-4f85-4436-bc7e-adfdcda3404c",
   "metadata": {},
   "outputs": [],
   "source": [
    "freqtable_l"
   ]
  },
  {
   "cell_type": "code",
   "execution_count": null,
   "id": "43d67880-7d5d-4c16-b155-2ccdfc9f90fc",
   "metadata": {},
   "outputs": [],
   "source": [
    "freqtable_l['placedlikes']"
   ]
  },
  {
   "cell_type": "code",
   "execution_count": null,
   "id": "b1e497a1-2f90-4836-8d7e-e93cabb14769",
   "metadata": {},
   "outputs": [],
   "source": [
    "y_pos_r = np.arange(len(bars_r))\n",
    "y_pos_r\n",
    "len(y_pos_r)"
   ]
  },
  {
   "cell_type": "code",
   "execution_count": null,
   "id": "682014c1-3ffa-4225-8cb4-d25d5e2985b5",
   "metadata": {},
   "outputs": [],
   "source": [
    "SMALL_SIZE = 8\n",
    "MEDIUM_SIZE = 16\n",
    "BIGGER_SIZE = 12\n",
    "\n",
    "plt.rc('font', size=MEDIUM_SIZE)          # controls default text sizes\n",
    "plt.rc('axes', titlesize=MEDIUM_SIZE)     # fontsize of the axes title\n",
    "plt.rc('axes', labelsize=MEDIUM_SIZE)    # fontsize of the x and y labels\n",
    "plt.rc('xtick', labelsize=MEDIUM_SIZE)    # fontsize of the tick labels\n",
    "plt.rc('ytick', labelsize=MEDIUM_SIZE)    # fontsize of the tick labels\n",
    "plt.rc('legend', fontsize=MEDIUM_SIZE)    # legend fontsize\n",
    "\n",
    "fig, ax = plt.subplots(figsize =(20, 10))\n",
    "bars = freqtable_l['placedlikes'].iloc[0:50,]\n",
    "y_pos = np.arange(len(bars)+1)\n",
    "y_pos = y_pos[1:51]\n",
    "\n",
    "bars_r = freqtable_r['placedretweets'].iloc[0:50,]\n",
    "y_pos_r = np.arange(len(bars_r)+1)\n",
    "y_pos_r = y_pos_r[1:51]\n",
    "n = 1  # Keeps every 7th label\n",
    "[l.set_visible(False) for (i,l) in enumerate(ax.xaxis.get_ticklabels()) if i % n != 0]\n",
    "\n",
    "# Create bars\n",
    "plt.bar(y_pos-.3, round(freqtable_l['freqlikers'].iloc[0:50,]/sum(freqtable_l['freqlikers']),3), width = 0.45, alpha = .9, label = 'Likes')\n",
    "plt.bar(y_pos_r+.2, round(freqtable_r['freqretweeters'].iloc[0:50,]/sum(freqtable_r['freqretweeters']),3), width = 0.45, alpha =.6, label = 'Retweets')\n",
    "\n",
    "\n",
    "# Create names on the axis\n",
    "#plt.xticks(y_pos, bars)\n",
    "plt.xlabel(\"Number of likes/retweets placed per liker\")\n",
    "plt.ylabel(\"share of likers/retweeters\")\n",
    "\n",
    "plt.legend(loc=\"upper right\", prop={'size': 13})\n",
    "\n",
    "# Show graphic\n",
    "# plt.show()\n",
    "#import tikzplotlib\n",
    "#tikzplotlib.clean_figure()\n",
    "#tikzplotlib.save(\"howmanyplacedlikes_lowerend.tex\", axis_height='7cm', axis_width='15cm') \n",
    "plt.savefig('howmanyplacedlikes_lowerend.pdf', bbox_inches='tight')\n",
    "\n"
   ]
  },
  {
   "cell_type": "code",
   "execution_count": null,
   "id": "eb8c5ab6-b112-4be3-8a2f-986d4ef094ec",
   "metadata": {},
   "outputs": [],
   "source": [
    "# Other metrics \n",
    "round(sum(freqtable_l['freqlikers'].iloc[51:655,]))#/sum(freqtable_l['freqlikers']),3) # % of users like more than 50 times in a month"
   ]
  },
  {
   "cell_type": "code",
   "execution_count": null,
   "id": "aa877b65-5db6-4673-a738-f414ce577c57",
   "metadata": {},
   "outputs": [],
   "source": [
    "round(sum(freqtable_l['freqlikers'].iloc[51:655,])/sum(freqtable_l['freqlikers']),3) # % of users like more than 50 times in a month"
   ]
  },
  {
   "cell_type": "code",
   "execution_count": null,
   "id": "62a3266f-b28d-4f78-a531-e67f4f2f4f17",
   "metadata": {},
   "outputs": [],
   "source": [
    "round(sum(freqtable_r['freqretweeters'].iloc[51:655,])/sum(freqtable_r['freqretweeters']),3) # % of users retweet more than 50 times in a month"
   ]
  },
  {
   "cell_type": "code",
   "execution_count": null,
   "id": "8b5287c1-e9bb-452e-b86d-dd772591d5f8",
   "metadata": {},
   "outputs": [],
   "source": [
    "round(sum(freqtable_l['freqlikers'].iloc[1:655,])/sum(freqtable_l['freqlikers']),3) # % of users like more than one post per month "
   ]
  },
  {
   "cell_type": "code",
   "execution_count": null,
   "id": "2239cc25-cfeb-4f58-b82b-548ada0ebdc0",
   "metadata": {},
   "outputs": [],
   "source": [
    "round(sum(freqtable_r['freqretweeters'].iloc[1:655,])/sum(freqtable_r['freqretweeters']),3) # % of users retweet more than one post per monthr"
   ]
  },
  {
   "cell_type": "code",
   "execution_count": null,
   "id": "db6e4d68-161d-46aa-afdf-c9cb2da572d0",
   "metadata": {},
   "outputs": [],
   "source": [
    "round(sum(freqtable_l['freqlikers'].iloc[2:655,])/sum(freqtable_l['freqlikers']),3) # % like more than 2 post per month "
   ]
  },
  {
   "cell_type": "code",
   "execution_count": null,
   "id": "3723f66a-4c3f-4e53-87e1-9f8d729a47b5",
   "metadata": {},
   "outputs": [],
   "source": [
    "round(sum(freqtable_r['freqretweeters'].iloc[2:655,])/sum(freqtable_r['freqretweeters']),3) # % retweet more than 2 posts per month "
   ]
  },
  {
   "cell_type": "code",
   "execution_count": null,
   "id": "273d86ee-1fdb-4b4e-933b-0d801efe33c7",
   "metadata": {},
   "outputs": [],
   "source": [
    "round(sum(freqtable_l['freqlikers'].iloc[3:655,])/sum(freqtable_l['freqlikers']),3) # % like more than 3 posts per month "
   ]
  },
  {
   "cell_type": "code",
   "execution_count": null,
   "id": "fac38b72-8488-4d29-bad9-a78bc7c917d1",
   "metadata": {},
   "outputs": [],
   "source": [
    "round(sum(freqtable_r['freqretweeters'].iloc[3:655,])/sum(freqtable_r['freqretweeters']),3) # % retweet more than 3 post per month "
   ]
  },
  {
   "cell_type": "code",
   "execution_count": null,
   "id": "06dca573-dd04-40c8-9a47-64e519e4da6c",
   "metadata": {},
   "outputs": [],
   "source": [
    "round(sum(freqtable_l['freqlikers'].iloc[4:655])/sum(freqtable_l['freqlikers']),3) # % like more than 4 post per month (5 or more)"
   ]
  },
  {
   "cell_type": "code",
   "execution_count": null,
   "id": "945e44b8-5f90-4120-9a24-9d2737f1d685",
   "metadata": {},
   "outputs": [],
   "source": [
    "round(sum(freqtable_r['freqretweeters'].iloc[4:655])/sum(freqtable_r['freqretweeters']),3) # % retweet more than 4 post per month "
   ]
  },
  {
   "cell_type": "code",
   "execution_count": null,
   "id": "d2febc3b-a5d4-43a8-85f9-04fcbd92c53a",
   "metadata": {},
   "outputs": [],
   "source": [
    "sum(freqtable_l['freqlikers'].iloc) # number of likers"
   ]
  },
  {
   "cell_type": "code",
   "execution_count": null,
   "id": "039ce883-7c3e-43c4-936c-b5bbe6681d9d",
   "metadata": {},
   "outputs": [],
   "source": [
    "sum(freqtable_r['freqretweeters'].iloc) # number of retweeters"
   ]
  }
 ],
 "metadata": {
  "kernelspec": {
   "display_name": "Python 3 (ipykernel)",
   "language": "python",
   "name": "python3"
  },
  "language_info": {
   "codemirror_mode": {
    "name": "ipython",
    "version": 3
   },
   "file_extension": ".py",
   "mimetype": "text/x-python",
   "name": "python",
   "nbconvert_exporter": "python",
   "pygments_lexer": "ipython3",
   "version": "3.10.4"
  }
 },
 "nbformat": 4,
 "nbformat_minor": 5
}
