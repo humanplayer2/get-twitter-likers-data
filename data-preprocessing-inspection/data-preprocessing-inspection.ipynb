{
 "cells": [
  {
   "cell_type": "markdown",
   "id": "e2fb5e40-ab19-44f9-9b44-7e0ce4832508",
   "metadata": {},
   "source": [
    "### Data Preprocessing and Inspection\n",
    "#### Structure of this notebook:  \n",
    "    **Aggregating the data into a dataset:** \n",
    "      \n",
    "    A. Preprocessing  \n",
    "      \n",
    "    **Exploring the data and descriptive statistics:**   \n",
    "      \n",
    "    B. Understanding the Likers & Retweeters datasets  \n",
    "    C. Understanding script performance\n",
    "    D. Understanding user activity"
   ]
  },
  {
   "cell_type": "code",
   "execution_count": null,
   "id": "06e835fb-3e5e-4dd6-8d09-3106baf60722",
   "metadata": {},
   "outputs": [],
   "source": [
    "import os\n",
    "import glob\n",
    "import json\n",
    "import pandas as pd\n",
    "import csv\n",
    "import numpy as np\n",
    "import warnings\n",
    "warnings.simplefilter(action='ignore', category=FutureWarning)\n",
    "warnings.simplefilter(action='ignore', category=pd.errors.PerformanceWarning)\n",
    "import itertools\n",
    "from matplotlib import pyplot as plt\n",
    "from collections import Counter\n",
    "from ast import literal_eval \n",
    "from aux import *"
   ]
  },
  {
   "cell_type": "markdown",
   "id": "eac44e19-3c7f-4486-94a5-f167b46e8cba",
   "metadata": {},
   "source": [
    "## A. Preprocessing \n",
    "(To be run once only)"
   ]
  },
  {
   "cell_type": "markdown",
   "id": "541d873b-dc5b-412a-b4f6-6de88428ccf4",
   "metadata": {},
   "source": [
    "#### Prelims and aggregating all likers/retweeters files including the final harvest data into like/retweet-tweet matrices.   \n",
    "#### Where likers/retweeters are listed in columns, and tweet-IDs in rows.  \n",
    "#### Entry[tweet_i,liker_j] evaluates to 1, if liker_j has liked tweet_i."
   ]
  },
  {
   "cell_type": "code",
   "execution_count": null,
   "id": "5fdca6be-07fa-4f10-9134-70a6a54ac4b5",
   "metadata": {},
   "outputs": [],
   "source": [
    "#TODO: What is your pull-folder called?\n",
    "my_pull = ' ' # pull folder name: Pull-DD-MM-YYY-hour:minute:second"
   ]
  },
  {
   "cell_type": "code",
   "execution_count": null,
   "id": "5b15f6b0-ccc4-4227-8150-81b16bc0365b",
   "metadata": {},
   "outputs": [],
   "source": [
    "# list all likers/retweeters files\n",
    "# TODO: adjust path to your pull-folder! \n",
    "filenames_l = glob.glob(os.path.join(my_pull,'CSVs/Likers_of_alarms/*ikers*')) \n",
    "filenames_r = glob.glob(os.path.join(my_pull,'CSVs/Retweeters_of_alarms/*etweeters*'))\n",
    "# Import all csvs and convert to pkl files\n",
    "# likers:\n",
    "for file in filenames_l:\n",
    "    likers = pd.read_csv(file, converters={\"likers\": literal_eval})\n",
    "    file = file.replace(\"csv\",\"pkl\")\n",
    "    likers.to_pickle(file)\n",
    "# retweeters:\n",
    "for file in filenames_r:\n",
    "    retweeters = pd.read_csv(file, converters={\"retweeters\": literal_eval})\n",
    "    file = file.replace(\"csv\",\"pkl\")\n",
    "    retweeters.to_pickle(file)\n",
    "# load all pkl file names\n",
    "pkl_l = glob.glob(os.path.join(my_pull,'CSVs/Likers_of_alarms/*pkl')) # all pkl file names \n",
    "pkl_r = glob.glob(os.path.join(my_pull,'CSVs/Retweeters_of_alarms/*pkl')) # all pkl file names "
   ]
  },
  {
   "cell_type": "code",
   "execution_count": null,
   "id": "22cbf090-e058-4bb5-80fb-233bbf6d274d",
   "metadata": {},
   "outputs": [],
   "source": [
    "# read pkl files, set tweet id as index (makes data handling and indexing way easier), make vote dataframe\n",
    "# Aggregate votes in dataframe: tweet ID as row index, user names as column headings\n",
    "likers_incomplete = pd.DataFrame()\n",
    "\n",
    "for files in pkl_l:\n",
    "\n",
    "    df = pd.read_pickle(files)\n",
    "    df.set_index('Unnamed: 0', inplace = True)\n",
    "    \n",
    "    for tweet in df.index:      \n",
    "            for user in df.at[tweet,'likers']:\n",
    "                likers_incomplete.at[tweet, user] = 1 "
   ]
  },
  {
   "cell_type": "code",
   "execution_count": null,
   "id": "137509be-f445-4322-aa1f-a0e5b71b7fcf",
   "metadata": {},
   "outputs": [],
   "source": [
    "# same as above for retweeters\n",
    "retweeters_incomplete = pd.DataFrame()\n",
    "\n",
    "for files in pkl_r:\n",
    "\n",
    "    df = pd.read_pickle(files)\n",
    "    df.set_index('Unnamed: 0', inplace = True)\n",
    "    \n",
    "    for tweet in df.index:      \n",
    "            for user in df.at[tweet,'retweeters']:\n",
    "                retweeters_incomplete.at[tweet, user] = 1 "
   ]
  },
  {
   "cell_type": "markdown",
   "id": "fc835b20-e316-478c-a0ab-3dace32c6dcf",
   "metadata": {},
   "source": [
    "#### Add final harvest data to dataframe"
   ]
  },
  {
   "cell_type": "code",
   "execution_count": null,
   "id": "a170eb1d-ad6f-4f09-8fcc-2542ecc4d122",
   "metadata": {},
   "outputs": [],
   "source": [
    "# likes\n",
    "finalharvest_l = pd.read_pickle(os.path.join(my_pull,'likers_final_harvest_complete.pkl')) # We use a file to keep track of the log so we can remember position if we need to restart due to error"
   ]
  },
  {
   "cell_type": "code",
   "execution_count": null,
   "id": "9a7197b3-9f1c-4da3-a87a-1bef47f8e390",
   "metadata": {},
   "outputs": [],
   "source": [
    "# retweets\n",
    "finalharvest_r = pd.read_pickle(os.path.join(my_pull,'retweeters_final_harvest_complete.pkl')) # We use a file to keep track of the log so we can remember position if we need to restart due to error"
   ]
  },
  {
   "cell_type": "code",
   "execution_count": null,
   "id": "2cf27c16-04fc-4e3a-a556-319e604aee41",
   "metadata": {},
   "outputs": [],
   "source": [
    "# add final harvest to dataframe\n",
    "for tweet in finalharvest_l.index:      \n",
    "    for user in finalharvest_l.at[tweet,'likers']:\n",
    "                likers_incomplete.at[tweet, user] = 1 "
   ]
  },
  {
   "cell_type": "code",
   "execution_count": null,
   "id": "2fd92384-6580-4551-baea-fd7dafeb3bf2",
   "metadata": {},
   "outputs": [],
   "source": [
    "# As above for retweets            \n",
    "for tweet in finalharvest_r.index:      \n",
    "    for user in finalharvest_r.at[tweet,'retweeters']:\n",
    "                retweeters_incomplete.at[tweet, user] = 1 "
   ]
  },
  {
   "cell_type": "code",
   "execution_count": null,
   "id": "28011206-fb41-4534-a35f-69d42edb5f6a",
   "metadata": {},
   "outputs": [],
   "source": [
    "likers_complete = likers_incomplete\n",
    "retweeters_complete = retweeters_incomplete"
   ]
  },
  {
   "cell_type": "markdown",
   "id": "43298b66-3a31-4b73-87d6-7ec6fef53b56",
   "metadata": {},
   "source": [
    "#### Save complete datasets: likers and retweeters"
   ]
  },
  {
   "cell_type": "code",
   "execution_count": null,
   "id": "39637a5f-b45d-4195-aa2c-bc4e872ad00b",
   "metadata": {},
   "outputs": [],
   "source": [
    "# Now dataset complete, save as csv so it can also be passed on to data analysis\n",
    "# TODO: name file\n",
    "likers_complete.to_csv('like_votes_with_final_harvest_XXX.csv')\n",
    "retweeters_complete.to_csv('retweets_votes_with_final_harvest_XXX.csv')"
   ]
  },
  {
   "cell_type": "markdown",
   "id": "d1125e1f-c1b9-44ca-b9a7-948782eea205",
   "metadata": {},
   "source": [
    "## B. Understanding the Likers & Retweeters datasets: Exploring the data/descriptive statistics"
   ]
  },
  {
   "cell_type": "markdown",
   "id": "d890d14e",
   "metadata": {},
   "source": [
    "Load the data:"
   ]
  },
  {
   "cell_type": "code",
   "execution_count": null,
   "id": "04bfe709-9260-4703-b858-2b69de58ab0a",
   "metadata": {},
   "outputs": [],
   "source": [
    "# If A. was run, then load data\n",
    "likers_complete = pd.read_csv('like_votes_with_final_harvest_XXX.csv')\n",
    "pd.options.display.float_format = '{:.2f}'.format\n",
    "likers_complete.set_index('Unnamed: 0', inplace = True)\n",
    "likers_complete.index.names = ['tweet']\n",
    "\n",
    "retweeters_complete = pd.read_csv('retweets_votes_with_final_harvest_XXX.csv')\n",
    "pd.options.display.float_format = '{:.2f}'.format\n",
    "retweeters_complete.set_index('Unnamed: 0', inplace = True)\n",
    "retweeters_complete.index.names = ['tweet']\n",
    "\n",
    "finalharvest_l = pd.read_pickle(os.path.join(my_pull,'likers_final_harvest_complete.pkl'))\n",
    "finalharvest_r = pd.read_pickle(os.path.join(my_pull,'retweeters_final_harvest_complete.pkl'))\n",
    "finalharvest_l.index.names = ['tweet']\n",
    "finalharvest_r.index.names = ['tweet']"
   ]
  },
  {
   "cell_type": "code",
   "execution_count": null,
   "id": "3b3dbddb-f1ef-4b09-81f3-25238cb73ce0",
   "metadata": {},
   "outputs": [],
   "source": [
    "# if pkl:\n",
    "#likers = pd.read_pickle(os.path.join(my_pull,'binary-matrix-likers.pkl'))\n",
    "#retweeters = pd.read_pickle(os.path.join(my_pull,'binary-matrix-retweeters.pkl'))\n",
    "#likers_complete = likers\n",
    "#retweeters_complete = retweeters\n",
    "#finalharvest_l = pd.read_pickle(os.path.join(my_pull,'likers_final_harvest_complete.pkl'))\n",
    "#finalharvest_r = pd.read_pickle(os.path.join(my_pull,'retweeters_final_harvest_complete.pkl'))\n",
    "#finalharvest_l.index.names = ['tweet']\n",
    "#finalharvest_r.index.names = ['tweet']"
   ]
  },
  {
   "cell_type": "markdown",
   "id": "2938a714",
   "metadata": {},
   "source": [
    "Let us look at the dataset of liking users, stored in  `likers`. In `likers`, the row index is tweet ID and the column names are user names. A cell contains `1` if the user liked the tweet, else `NaN`. Both rows and columns are sorted: rows numerically, columns alphabetically. The `retweeters` and `finalharvest_` dataframes are structured in the same way.\n",
    "\n",
    "The next cells are examples of the following:\n",
    "\n",
    "1. As the index is the tweet ID, we can look up a single tweet by using its ID, using `.loc`.\n",
    "2. To find some tweet IDs, we may want to look up at the subsection of the first 3 tweets and the first 5 users, using `.iloc`.\n",
    "3. TODO: List of linking users of a single tweet."
   ]
  },
  {
   "cell_type": "code",
   "execution_count": null,
   "id": "ce521420",
   "metadata": {},
   "outputs": [],
   "source": [
    "likers.loc[1537712147500781569]"
   ]
  },
  {
   "cell_type": "code",
   "execution_count": null,
   "id": "30c3c42b-4708-457b-a95f-6f0224d53ce2",
   "metadata": {},
   "outputs": [],
   "source": [
    "likers.iloc[0:3,0:5]"
   ]
  },
  {
   "cell_type": "markdown",
   "id": "e8069e0a",
   "metadata": {},
   "source": [
    "## Summary Numbers"
   ]
  },
  {
   "cell_type": "code",
   "execution_count": null,
   "id": "300fb998-a064-45af-9061-48c2b9135073",
   "metadata": {},
   "outputs": [],
   "source": [
    "totals = pd.DataFrame()\n",
    "totals.loc[1,'Tweets Liked'] = likers.shape[0]\n",
    "totals.loc[1,'Likers'] = likers.shape[1]\n",
    "totals.loc[1,'Likes'] = sum(likers.sum(axis = 1, skipna = True))\n",
    "#totals.loc[1,'Sanity Check 1'] = sum(likers.sum(axis = 0, skipna = True))\n",
    "totals.loc[1,'Tweets Retweeted'] = retweeters.shape[0]\n",
    "totals.loc[1,'Retweeters'] = retweeters.shape[1]\n",
    "totals.loc[1,'Retweets'] = sum(retweeters.sum(axis = 1, skipna = True))\n",
    "#totals.loc[1,'Sanity Check 2'] = sum(retweeters.sum(axis = 0, skipna = True))\n",
    "totals"
   ]
  },
  {
   "cell_type": "markdown",
   "id": "2028bb4f",
   "metadata": {},
   "source": [
    "## C. Understanding script performance\n",
    "### How many likers/retweeters did the script curate? We are looking at a dataset comprising those tweets that were also one last time collected in the final harvest"
   ]
  },
  {
   "cell_type": "code",
   "execution_count": null,
   "id": "644189c2-72a5-44b9-abeb-ee63d58a1c2a",
   "metadata": {},
   "outputs": [],
   "source": [
    "# Optional: How many tweets got <my_likersAtLeast> likes? How many tweets got <my_retweetersAtLeast> retweets?\n",
    "# see parameters my_likersAtLeast/my_retweetersAtLeast\n",
    "my_likersAtLeast = 10 # TODO SET YOUR PARAMTER HERE\n",
    "my_retweetersAtLeast = 3 # TODO SET YOUR PARAMETER HERE\n",
    "\n",
    "Atleast = pd.DataFrame()\n",
    "Atleast.loc[1, 'All tweets liked'] = likers.shape[0]\n",
    "Atleast.loc[1,'Tweets with my_likersAtLeast'] = sum((likers.sum(axis = 1, skipna = True)) >= my_likersAtLeast) \n",
    "Atleast.loc[1, 'All tweets retweeted'] = retweeters.shape[0]\n",
    "Atleast.loc[1,'Tweets with my_retweetersAtLeast'] = sum((retweeters.sum(axis = 1, skipna = True)) >= my_retweetersAtLeast) \n",
    "Atleast"
   ]
  },
  {
   "cell_type": "code",
   "execution_count": null,
   "id": "26c27dc4-b2be-4ee1-a638-0a0f07a9e6e6",
   "metadata": {},
   "outputs": [],
   "source": [
    "subset_likerscomplete = pd.merge(likers_complete, finalharvest_l, left_index=True, right_index=True)\n",
    "subset_retweeterscomplete = pd.merge(retweeters_complete, finalharvest_r, left_index=True, right_index=True)"
   ]
  },
  {
   "cell_type": "code",
   "execution_count": null,
   "id": "a32aae22-b56c-408b-9de7-e9475923ae1e",
   "metadata": {},
   "outputs": [],
   "source": [
    "# like count at time of final harvest\n",
    "likecount = finalharvest_l['like_count']\n",
    "# number of collected likers \n",
    "likerscollected = subset_likerscomplete.sum(axis = 1, skipna = True) \n",
    "# retweet count at time of final harvest\n",
    "retweetcount = finalharvest_r['retweet_count']\n",
    "# number of collected retweeters\n",
    "retweeterscollected = subset_retweeterscomplete.sum(axis = 1, skipna = True) "
   ]
  },
  {
   "cell_type": "code",
   "execution_count": null,
   "id": "c41aeeaa-d1cf-4445-9c84-fa05f2c61964",
   "metadata": {},
   "outputs": [],
   "source": [
    "# Absolute number of missed likes/retweets per tweet\n",
    "plot_missed(likecount, likerscollected, retweetcount, retweeterscollected)"
   ]
  },
  {
   "cell_type": "code",
   "execution_count": null,
   "id": "a2c56a34-4fb9-446f-ba37-01adf70ba37e",
   "metadata": {},
   "outputs": [],
   "source": [
    "# Share of missed likes/retweets given total of received likes/retweets per tweet\n",
    "plot_missed_relative(likecount, likerscollected, retweetcount, retweeterscollected)"
   ]
  },
  {
   "cell_type": "code",
   "execution_count": null,
   "id": "7f27c518-bc5c-492f-9971-9bf733c658c2",
   "metadata": {},
   "outputs": [],
   "source": [
    "# Supplemented with total number of likes/retweets each tweet attracted: \n",
    "plot_missed_relative_absolutecount(likecount, likerscollected, retweetcount, retweeterscollected)\n"
   ]
  },
  {
   "cell_type": "code",
   "execution_count": null,
   "id": "1e5800ad",
   "metadata": {},
   "outputs": [],
   "source": [
    "# inspect numbers more closely: likers\n",
    "d = {'collected likers': likerscollected, 'likecount': likecount, 'difference': likecount-likerscollected, 'percent': ((likecount-likerscollected)/likecount)}\n",
    "inspectlikes = pd.DataFrame(data=d)\n",
    "inspectlikes"
   ]
  },
  {
   "cell_type": "code",
   "execution_count": null,
   "id": "9744f0a8",
   "metadata": {},
   "outputs": [],
   "source": [
    "# inspect numbers more closely: retweeteres\n",
    "d = {'collected retweeters': retweeterscollected, 'retweetcount': retweetcount, 'difference': retweetcount-retweeterscollected, 'percent': ((retweetcount-retweeterscollected)/retweetcount)}\n",
    "inspectretweets = pd.DataFrame(data=d)\n",
    "inspectretweets"
   ]
  },
  {
   "cell_type": "code",
   "execution_count": null,
   "id": "7d9f7bb3",
   "metadata": {},
   "outputs": [],
   "source": [
    "perf = pd.DataFrame()\n",
    "perf.loc[1, '% tweets with 10 or more too many (deleted):'] = round(len(inspectlikes[inspectlikes['difference'] <-10])/len(inspectlikes),4)\n",
    "perf.loc[2,'% tweets with 10 or more too many (deleted):'] = round(len(inspectretweets[inspectretweets['difference'] <-10])/len(inspectretweets), 4)\n",
    "\n",
    "perf.loc[1, '% tweets with 10 or more missed:'] = round(len(inspectlikes[inspectlikes['difference'] >10])/len(inspectlikes),4)\n",
    "perf.loc[2, '% tweets with 10 or more missed:'] = round(len(inspectretweets[inspectretweets['difference'] >10])/len(inspectretweets),4)\n",
    "\n",
    "perf.loc[1, '% tweets with 10% or more too many (deleted):'] = round(len(inspectlikes[inspectlikes['percent'] <-.1])/len(inspectlikes),4)\n",
    "perf.loc[2,'% tweets with 10% or more too many (deleted):'] = round(len(inspectretweets[inspectretweets['percent'] >.1] )/len(inspectretweets),4)\n",
    "\n",
    "\n",
    "perf.loc[1, '% tweets with 10% or more missed:'] = round(len(inspectlikes[inspectlikes['percent'] >.1])/len(inspectlikes),4)\n",
    "perf.loc[2, '% tweets with 10% or more missed:'] = round(len(inspectretweets[inspectretweets['percent'] <-.1] )/len(inspectretweets),4)\n",
    "\n",
    "perf.loc[1, '% tweets with complete:'] = round(len(inspectlikes[inspectlikes['difference'] == 0])/len(inspectlikes),4)\n",
    "perf.loc[2, '% tweets with complete:'] = round(len(inspectretweets[inspectretweets['difference'] == 0])/len(inspectretweets),4)\n",
    "\n",
    "\n",
    "perf.index = ['Likes', 'Retweets']\n",
    "\n",
    "perf"
   ]
  },
  {
   "cell_type": "code",
   "execution_count": null,
   "id": "34bca559",
   "metadata": {},
   "outputs": [],
   "source": [
    "# Inspect (highly popular) tweets in terms of like count\n",
    "likecount"
   ]
  },
  {
   "cell_type": "code",
   "execution_count": null,
   "id": "0fdebf4f",
   "metadata": {},
   "outputs": [],
   "source": [
    "# Inspect (highly popular) tweets in terms of retweet count\n",
    "retweetcount"
   ]
  },
  {
   "cell_type": "markdown",
   "id": "6d9351ef-8e1b-4ec9-bc97-7145b564c7ef",
   "metadata": {},
   "source": [
    "## D. Understanding user activity\n",
    "How many likes/retweets did the users place? How many unique likers/retweeters are in the dataset? "
   ]
  },
  {
   "cell_type": "markdown",
   "id": "7148ba7a-de21-4c14-81cf-c78c76aaceeb",
   "metadata": {},
   "source": [
    "### How many likers/retweeters did the script curate? Dataset comprising those tweets that were one last time collected in the final harvest"
   ]
  },
  {
   "cell_type": "code",
   "execution_count": null,
   "id": "24f493a1-de89-407d-863f-544f18012287",
   "metadata": {},
   "outputs": [],
   "source": [
    "freqtables_l, freqtable_r = make_frequency_table(likers_complete, retweeters_complete)"
   ]
  },
  {
   "cell_type": "code",
   "execution_count": null,
   "id": "19c32f14-4495-4f66-98d4-6667428e7362",
   "metadata": {},
   "outputs": [],
   "source": [
    "freqtables_l.head()"
   ]
  },
  {
   "cell_type": "code",
   "execution_count": null,
   "id": "1ada5939-b469-420e-abd8-d02dc23e2363",
   "metadata": {},
   "outputs": [],
   "source": [
    "freqtable_r.head()"
   ]
  },
  {
   "cell_type": "code",
   "execution_count": null,
   "id": "fda33e12-b031-4fc2-b802-b3c2bab140b0",
   "metadata": {},
   "outputs": [],
   "source": [
    "plot_frequency(freqtable_l, freqtable_r)"
   ]
  },
  {
   "cell_type": "code",
   "execution_count": null,
   "id": "c98af9bb-c8dc-41fc-a4bc-deb7f3e007aa",
   "metadata": {},
   "outputs": [],
   "source": [
    "users = pd.DataFrame()\n",
    "\n",
    "users.loc[1, 'users placed more than 1:'] = freqtable_l.loc[freqtable_l['placedlikes'] > 1, 'freqlikers'].sum()\n",
    "users.loc[2,'users placed more than 1:'] = freqtable_r.loc[freqtable_r['placedretweets'] > 1, 'freqretweeters'].sum()\n",
    "\n",
    "users.loc[1, '% users placed more than 1:'] = round((freqtable_l.loc[freqtable_l['placedlikes'] > 1, 'freqlikers'].sum())/sum(freqtable_l['freqlikers']),4)\n",
    "users.loc[2, '% users placed more than 1:'] = round((freqtable_r.loc[freqtable_r['placedretweets'] > 1, 'freqretweeters'].sum())/sum(freqtable_r['freqretweeters']),4)\n",
    "\n",
    "users.loc[1, 'users placed more than 2:'] = freqtable_l.loc[freqtable_l['placedlikes'] > 2, 'freqlikers'].sum()\n",
    "users.loc[2,'users placed more than 2:'] = freqtable_r.loc[freqtable_r['placedretweets'] > 2, 'freqretweeters'].sum()\n",
    "\n",
    "users.loc[1, '% users placed more than 2:'] = round((freqtable_l.loc[freqtable_l['placedlikes'] > 2, 'freqlikers'].sum())/sum(freqtable_l['freqlikers']),4)\n",
    "users.loc[2, '% users placed more than 2:'] = round((freqtable_r.loc[freqtable_r['placedretweets'] > 2, 'freqretweeters'].sum())/sum(freqtable_r['freqretweeters']),4)\n",
    "\n",
    "users.loc[1, 'users placed more than 3:'] = freqtable_l.loc[freqtable_l['placedlikes'] > 3, 'freqlikers'].sum()\n",
    "users.loc[2,'users placed more than 3:'] = freqtable_r.loc[freqtable_r['placedretweets'] > 3, 'freqretweeters'].sum()\n",
    "\n",
    "users.loc[1, '% users placed more than 3:'] = round((freqtable_l.loc[freqtable_l['placedlikes'] > 3, 'freqlikers'].sum())/sum(freqtable_l['freqlikers']),4)\n",
    "users.loc[2, '% users placed more than 3:'] = round((freqtable_r.loc[freqtable_r['placedretweets'] > 3, 'freqretweeters'].sum())/sum(freqtable_r['freqretweeters']),4)\n",
    "\n",
    "users.loc[1, 'users placed more than 4:'] = freqtable_l.loc[freqtable_l['placedlikes'] > 4, 'freqlikers'].sum()\n",
    "users.loc[2,'users placed more than 4:'] = freqtable_r.loc[freqtable_r['placedretweets'] > 4, 'freqretweeters'].sum()\n",
    "\n",
    "users.loc[1, '% users placed more than 4:'] = round((freqtable_l.loc[freqtable_l['placedlikes'] > 4, 'freqlikers'].sum())/sum(freqtable_l['freqlikers']),4)\n",
    "users.loc[2, '% users placed more than 4:'] = round((freqtable_r.loc[freqtable_r['placedretweets'] > 4, 'freqretweeters'].sum())/sum(freqtable_r['freqretweeters']),4)\n",
    "\n",
    "users.loc[1, 'users placed more than 50:'] = freqtable_l.loc[freqtable_l['placedlikes'] > 50, 'freqlikers'].sum()\n",
    "users.loc[2,'users placed more than 50:'] = freqtable_r.loc[freqtable_r['placedretweets'] > 50, 'freqretweeters'].sum()\n",
    "\n",
    "users.loc[1, '% users placed more than 50:'] = round((freqtable_l.loc[freqtable_l['placedlikes'] > 50, 'freqlikers'].sum())/sum(freqtable_l['freqlikers']),4)\n",
    "users.loc[2, '% users placed more than 50:'] = round((freqtable_r.loc[freqtable_r['placedretweets'] > 50, 'freqretweeters'].sum())/sum(freqtable_r['freqretweeters']),4)\n",
    "\n",
    "\n",
    "users.index = ['Likes', 'Retweets']\n",
    "users\n"
   ]
  }
 ],
 "metadata": {
  "kernelspec": {
   "display_name": "Python 3.10.4 64-bit",
   "language": "python",
   "name": "python3"
  },
  "language_info": {
   "codemirror_mode": {
    "name": "ipython",
    "version": 3
   },
   "file_extension": ".py",
   "mimetype": "text/x-python",
   "name": "python",
   "nbconvert_exporter": "python",
   "pygments_lexer": "ipython3",
   "version": "3.10.4"
  },
  "vscode": {
   "interpreter": {
    "hash": "aee8b7b246df8f9039afb4144a1f6fd8d2ca17a180786b69acc140d282b71a49"
   }
  }
 },
 "nbformat": 4,
 "nbformat_minor": 5
}
