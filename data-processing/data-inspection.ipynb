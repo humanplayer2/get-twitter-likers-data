{
 "cells": [
  {
   "cell_type": "markdown",
   "id": "e2fb5e40-ab19-44f9-9b44-7e0ce4832508",
   "metadata": {},
   "source": [
    "# Data Inspection\n",
    "\n",
    "**Prerequisite:** It is a prerequisite for this notebook that the  `binary-matrix.sh` script has been run on the data folder of interest.\n",
    "\n",
    "#### Structure of this notebook:  \n",
    "    **Exploring the data and descriptive statistics:**   \n",
    "\n",
    "    A. Package and Data Load  \n",
    "    B. Understanding the Likers & Retweeters datasets  \n",
    "    C. Understanding script performance\n",
    "    D. Understanding user activity\n",
    "\n",
    "# A. Package and Data Load\n",
    "Specify your data directory in this section (`my_pull`)."
   ]
  },
  {
   "cell_type": "code",
   "execution_count": null,
   "id": "06e835fb-3e5e-4dd6-8d09-3106baf60722",
   "metadata": {},
   "outputs": [],
   "source": [
    "import os\n",
    "import glob\n",
    "import json\n",
    "import pandas as pd\n",
    "import csv\n",
    "import numpy as np\n",
    "import warnings\n",
    "warnings.simplefilter(action='ignore', category=FutureWarning)\n",
    "warnings.simplefilter(action='ignore', category=pd.errors.PerformanceWarning)\n",
    "import itertools\n",
    "from matplotlib import pyplot as plt\n",
    "from collections import Counter\n",
    "from ast import literal_eval\n",
    "newest_pull_directory = max(glob.glob('../Pull*'), key=os.path.getmtime)\n",
    "from resources.datainspection import *"
   ]
  },
  {
   "cell_type": "markdown",
   "id": "665113ad",
   "metadata": {},
   "source": [
    "`my_pull`: Set the data directory you want to inspect, e.g. Pull-DD-MM-YYYY-hour:minute:second, or use the newest by setting `my_pull = newest_pull_directory`."
   ]
  },
  {
   "cell_type": "code",
   "execution_count": null,
   "id": "5fdca6be-07fa-4f10-9134-70a6a54ac4b5",
   "metadata": {},
   "outputs": [],
   "source": [
    "my_pull = newest_pull_directory\n",
    "my_pull"
   ]
  },
  {
   "cell_type": "markdown",
   "id": "6a424a1b",
   "metadata": {},
   "source": [
    "Load the data.\n",
    "\n",
    "The data structures are described further below. In overview,\n",
    "- `likers` is the dataframe of tweets and all their observed likers,\n",
    "- `finalharvest_l` is the dataframe of tweets and likers observed during the final harvest,\n",
    "- `retweeters` and `finalharvest_r` are the same, but for retweeeters."
   ]
  },
  {
   "cell_type": "code",
   "execution_count": null,
   "id": "36eeb83d",
   "metadata": {},
   "outputs": [],
   "source": [
    "likers = pd.read_pickle(os.path.join(my_pull,'binary-matrix-likers.pkl'))\n",
    "retweeters = pd.read_pickle(os.path.join(my_pull,'binary-matrix-retweeters.pkl'))\n",
    "finalharvest_l = pd.read_pickle(os.path.join(my_pull,'likers_final_harvest_complete.pkl'))\n",
    "finalharvest_r = pd.read_pickle(os.path.join(my_pull,'retweeters_final_harvest_complete.pkl'))\n",
    "finalharvest_l.index.names = ['tweet']\n",
    "finalharvest_r.index.names = ['tweet']"
   ]
  },
  {
   "cell_type": "markdown",
   "id": "85c7a167",
   "metadata": {},
   "source": [
    "# B. Exploring"
   ]
  },
  {
   "cell_type": "markdown",
   "id": "ae3f85e5",
   "metadata": {},
   "source": [
    "## Summary Numbers\n",
    "\n",
    "The following dataframe includes some summary totals of both `likers` and `retweeters`:"
   ]
  },
  {
   "cell_type": "code",
   "execution_count": null,
   "id": "b6b145dd",
   "metadata": {},
   "outputs": [],
   "source": [
    "totals = pd.DataFrame()\n",
    "totals.loc[1,'Total no. of: Liked Tweets'] = likers.shape[0]\n",
    "totals.loc[1,'Likers'] = likers.shape[1]\n",
    "totals.loc[1,'Likes'] = sum(likers.sum(axis = 1, skipna = True))\n",
    "totals.loc[1,'Retweeted Tweets'] = retweeters.shape[0]\n",
    "totals.loc[1,'Retweeters'] = retweeters.shape[1]\n",
    "totals.loc[1,'Retweets'] = sum(retweeters.sum(axis = 1, skipna = True))\n",
    "totals"
   ]
  },
  {
   "cell_type": "markdown",
   "id": "f67d4f0e",
   "metadata": {},
   "source": [
    "## Likers\n",
    "\n",
    "Let us look at the dataset of liking users, stored in  `likers`. In `likers`, the row index is tweet ID and the column names are user names. A cell contains `1` if the user liked the tweet, else `NaN`. Both rows and columns are sorted: rows numerically, columns alphabetically. The `retweeters` and `finalharvest_` dataframes are structured in the same way.\n",
    "\n",
    "This section provides some examples of how to prod the `likers` matrix."
   ]
  },
  {
   "cell_type": "markdown",
   "id": "c34e6777",
   "metadata": {},
   "source": [
    "To find some tweet IDs, we may want to look up at the subsection of the first 3 tweets and the first 5 users, using `.iloc`:"
   ]
  },
  {
   "cell_type": "code",
   "execution_count": null,
   "id": "8688d780",
   "metadata": {},
   "outputs": [],
   "source": [
    "likers.iloc[0:3,0:5]"
   ]
  },
  {
   "cell_type": "markdown",
   "id": "e1ae8c4b",
   "metadata": {},
   "source": [
    "Or perhaps we want to look at the tweets with the highest like count (retweet count) at the time of final harvest:"
   ]
  },
  {
   "cell_type": "code",
   "execution_count": null,
   "id": "2cda100c",
   "metadata": {},
   "outputs": [],
   "source": [
    "finalharvest_l[['like_count']]\n",
    "#finalharvest_r[['retweet_count']]"
   ]
  },
  {
   "cell_type": "markdown",
   "id": "b3591ee4",
   "metadata": {},
   "source": [
    "As the index is the tweet ID, we can look up the row of a single tweet by using its ID and `.loc`. \n",
    "Here, we pass the list `[tweet]` to return a nice looking dataframe. If you'd rather want just a series, pass just `tweet`."
   ]
  },
  {
   "cell_type": "code",
   "execution_count": null,
   "id": "727fca75",
   "metadata": {},
   "outputs": [],
   "source": [
    "tweet = 1537712147500781569\n",
    "# likers.loc[tweet] # Series\n",
    "likers.loc[[tweet]] # Dataframe"
   ]
  },
  {
   "cell_type": "markdown",
   "id": "a85d1879",
   "metadata": {},
   "source": [
    "We can subset `likes` to only users that have liked the tweet by dropping columns with NaN values:"
   ]
  },
  {
   "cell_type": "code",
   "execution_count": null,
   "id": "be496aae",
   "metadata": {},
   "outputs": [],
   "source": [
    "likers.loc[[tweet]].dropna(axis='columns')"
   ]
  },
  {
   "cell_type": "markdown",
   "id": "d76c0864",
   "metadata": {},
   "source": [
    "We get a list of the liking users of the tweet by listing the columns names:"
   ]
  },
  {
   "cell_type": "code",
   "execution_count": null,
   "id": "5eef1754",
   "metadata": {},
   "outputs": [],
   "source": [
    "likers.loc[[tweet]].dropna(axis='columns').columns.values.tolist()"
   ]
  },
  {
   "cell_type": "markdown",
   "id": "6d9351ef-8e1b-4ec9-bc97-7145b564c7ef",
   "metadata": {},
   "source": [
    "## C. Checking dataset completeness\n",
    "\n",
    "This section investigates how complete the dataset is with respect to the collected likers and retweeters. \n",
    "\n",
    "To evaluate how complete the dataset is, we compare the number of likers/retweeters the script curated per tweet to the number of likes/retweets the tweet has a final harvest.\n",
    "\n",
    "This is not bulletproof way of measuring completeness: A tweet may have gotten 100 early on that the script misses, then slowly get a 100 more taht the script all gets, while the first 100 unlike or have their accounts deleted. The measure would not inform us that we missed out, but tell us that we got 100/100 likers.\n",
    "\n",
    "To use this measure, the tweets must have been surveyed during the final harvest, so we subset to those below."
   ]
  },
  {
   "cell_type": "markdown",
   "id": "781b0627",
   "metadata": {},
   "source": [
    "### C1. How many tweets got at least as many likes that they were subject to final harvest collection?\n",
    "\n",
    "As we below subset to tweet included in the final harvest, it may be of interest to know how large a portion of all collected tweets this is:"
   ]
  },
  {
   "cell_type": "code",
   "execution_count": null,
   "id": "d408eb46",
   "metadata": {},
   "outputs": [],
   "source": [
    "all_vs_finalharvest = pd.DataFrame()\n",
    "all_vs_finalharvest.loc[1,'Liked: All'] = likers.shape[0]\n",
    "all_vs_finalharvest.loc[1,'Final harvest L'] = finalharvest_l.shape[0]\n",
    "all_vs_finalharvest.loc[1,'% L'] = (finalharvest_l.shape[0]/likers.shape[0])*100\n",
    "all_vs_finalharvest.loc[1,'Retweeted: All'] = retweeters.shape[0]\n",
    "all_vs_finalharvest.loc[1,'Final harvest R'] = finalharvest_r.shape[0]\n",
    "all_vs_finalharvest.loc[1,'% R'] = (finalharvest_r.shape[0]/retweeters.shape[0])*100\n",
    "all_vs_finalharvest = all_vs_finalharvest.apply(np.floor).astype('int')\n",
    "all_vs_finalharvest"
   ]
  },
  {
   "cell_type": "markdown",
   "id": "281dd45c",
   "metadata": {},
   "source": [
    "### C2. Plot overviews of missed likers and retweeters\n",
    "\n",
    "This section gives a visual overview of how complete the dataset is (again, measured by number of collected likers vs. like count at final harvest)."
   ]
  },
  {
   "cell_type": "code",
   "execution_count": null,
   "id": "19c32f14-4495-4f66-98d4-6667428e7362",
   "metadata": {},
   "outputs": [],
   "source": [
    "subset_likerscomplete = pd.merge(likers, finalharvest_l, left_index=True, right_index=True)\n",
    "subset_retweeterscomplete = pd.merge(retweeters, finalharvest_r, left_index=True, right_index=True)\n",
    "# like count at time of final harvest\n",
    "likecount = finalharvest_l['like_count']\n",
    "# number of collected likers script performance\n",
    "likerscollected = subset_likerscomplete.sum(axis = 1, skipna = True) \n",
    "# retweet count at time of final harvest\n",
    "retweetcount = finalharvest_r['retweet_count']\n",
    "# number of collected retweeters\n",
    "retweeterscollected = subset_retweeterscomplete.sum(axis = 1, skipna = True) "
   ]
  },
  {
   "cell_type": "markdown",
   "id": "1f0b0362",
   "metadata": {},
   "source": [
    "### C2.1 Absolute number of missed likers and retweeters \n",
    "\n",
    "This plot presents the absolute number of missed likers (blue) and retweeters (orange), with tweets on the x-axis and the number of missed likers and retweeters on the y-axis. \n",
    "\n",
    "You learn how many likers/retweeters the script missed in collecting, e.g. due a large batch (say, 200) placed simulataneously.\n",
    "\n",
    "The tweet with the most absolute missed likers is found in Sec. C3 below."
   ]
  },
  {
   "cell_type": "code",
   "execution_count": null,
   "id": "1ada5939-b469-420e-abd8-d02dc23e2363",
   "metadata": {},
   "outputs": [],
   "source": [
    "# Absolute number of missed likes/retweets per tweet\n",
    "plot_missed(likecount, likerscollected, retweetcount, retweeterscollected)"
   ]
  },
  {
   "cell_type": "markdown",
   "id": "1f0b0362",
   "metadata": {},
   "source": [
    "### C2.2 Relative number of missed likers and retweeters\n",
    "\n",
    "This plot presents the relative number of missed likes (blue) and retweets (orange), with tweets on the x-axis and the share of missed likes and retweets on the y-axis. \n",
    "\n",
    "You learn how many likers/retweeters relative to the total number of attracted likes/retweets the script missed in collecting.  "
   ]
  },
  {
   "cell_type": "code",
   "execution_count": null,
   "id": "fda33e12-b031-4fc2-b802-b3c2bab140b0",
   "metadata": {},
   "outputs": [],
   "source": [
    "# Share of missed likes/retweets given total of received likes/retweets per tweet\n",
    "plot_missed_relative(likecount, likerscollected, retweetcount, retweeterscollected)"
   ]
  },
  {
   "cell_type": "markdown",
   "id": "1f0b0362",
   "metadata": {},
   "source": [
    "### C2.3 Combined absolute and relative missed liekrs and reweeters.\n",
    "\n",
    "This plot complements the plot above with the total number of likes/retweets (dotted lines).\n",
    "\n",
    "You can learn from it that the script priotitises the collection of likers/retweeters for popular tweets. You should see that the script misses out on likers/retweeters relatively less when a tweet attracted many likers/retweeters. The script de-prioritises the collection of likers/retweeters for tweets that get few likes/retweeters."
   ]
  },
  {
   "cell_type": "code",
   "execution_count": null,
   "id": "5c9d4a95",
   "metadata": {},
   "outputs": [],
   "source": [
    "# Supplemented with total number of likes/retweets each tweet attracted: \n",
    "plot_missed_relative_absolutecount(likecount, likerscollected, retweetcount, retweeterscollected)\n"
   ]
  },
  {
   "cell_type": "markdown",
   "id": "a19ad9e0",
   "metadata": {},
   "source": [
    "### C3. Details of missed likers and rewtweeters\n",
    "\n",
    "We turn to checking in details where likers and retweeters were missed.\n",
    "\n",
    "The following dataframe lists tweets according to the difference in like count at final harvest and number of collected likers:"
   ]
  },
  {
   "cell_type": "code",
   "execution_count": null,
   "id": "6d5b6d8c",
   "metadata": {},
   "outputs": [],
   "source": [
    "# inspect numbers more closely: likers\n",
    "d = {'Collected likers': likerscollected, 'Likecount': likecount, 'Absolute difference': likecount-likerscollected, 'Percent collected': ((likecount-likerscollected)/likecount)*100}\n",
    "inspectlikes = pd.DataFrame(data=d).sort_values(by=['Absolute difference'], ascending=False)\n",
    "inspectlikes.astype({'Collected likers':'int', 'Absolute difference':'int'})"
   ]
  },
  {
   "cell_type": "markdown",
   "id": "bf3e1647",
   "metadata": {},
   "source": [
    "The following dataframe lists tweets according to the difference in retweet count at final harvest and number of collected retweeters:"
   ]
  },
  {
   "cell_type": "code",
   "execution_count": null,
   "id": "7c36cd12",
   "metadata": {},
   "outputs": [],
   "source": [
    "# inspect numbers more closely: retweeteres\n",
    "d = {'Collected retweeters': retweeterscollected, 'Retweetcount': retweetcount, 'Absolute difference': retweetcount-retweeterscollected, 'Percent collected': ((retweetcount-retweeterscollected)/retweetcount)*100}\n",
    "inspectretweets = pd.DataFrame(data=d).sort_values(by=['Absolute difference'], ascending=False)\n",
    "inspectretweets#.astype({'Collected retweeters':'int', 'Absolute difference':'int'})"
   ]
  },
  {
   "cell_type": "markdown",
   "id": "ed45abee",
   "metadata": {},
   "source": [
    "The following dataframe gives you and idea about the number of tweets (in % of all tweets monitored) where the script misses likers/retweeters in the collecton or where the script collected too many (when likes/retweets where deleted/retracted). \n",
    "\n",
    "Likers and retweeters are specified in row 1 and 2, respectively. E.g., from the first columnn you can learn for how many (%) tweets the script collected 10 or more too many likers/retweeters. Or, from the last column, you can learn for how mnay tweets (%), the script collected a complete collection of likers/retweeters (compared to time of final harvest). "
   ]
  },
  {
   "cell_type": "code",
   "execution_count": null,
   "id": "f40ae970",
   "metadata": {},
   "outputs": [],
   "source": [
    "perf = pd.DataFrame()\n",
    "perf.loc[1,'Too many: % with 10 or more too many:'] = round(len(inspectlikes[inspectlikes['Absolute difference'] <-10])/len(inspectlikes),4)\n",
    "perf.loc[2,'Too many: % with 10 or more too many:'] = round(len(inspectretweets[inspectretweets['Absolute difference'] <-10])/len(inspectretweets), 4)\n",
    "\n",
    "perf.loc[1, 'Too few: % with 10 or more missed:'] = round(len(inspectlikes[inspectlikes['Absolute difference'] >10])/len(inspectlikes),4)\n",
    "perf.loc[2, 'Too few: % with 10 or more missed:'] = round(len(inspectretweets[inspectretweets['Absolute difference'] >10])/len(inspectretweets),4)\n",
    "\n",
    "perf.loc[1,'Too many: % with 10% or more too many:'] = round(len(inspectlikes[inspectlikes['Percent collected'] <-.1])/len(inspectlikes),4)\n",
    "perf.loc[2,'Too many: % with 10% or more too many:'] = round(len(inspectretweets[inspectretweets['Percent collected'] >.1] )/len(inspectretweets),4)\n",
    "\n",
    "perf.loc[1, 'Too few: % with 10% or more missed:'] = round(len(inspectlikes[inspectlikes['Percent collected'] >.1])/len(inspectlikes),4)\n",
    "perf.loc[2, 'Too few: % with 10% or more missed:'] = round(len(inspectretweets[inspectretweets['Percent collected'] <-.1] )/len(inspectretweets),4)\n",
    "\n",
    "perf.loc[1, 'Match: % with neither too many nor too few:'] = round(len(inspectlikes[inspectlikes['Absolute difference'] == 0])/len(inspectlikes),4)\n",
    "perf.loc[2, 'Match: % with neither too many nor too few:'] = round(len(inspectretweets[inspectretweets['Absolute difference'] == 0])/len(inspectretweets),4)\n",
    "\n",
    "\n",
    "perf.index = ['Likes', 'Retweets']\n",
    "\n",
    "perf"
   ]
  },
  {
   "cell_type": "markdown",
   "id": "723c27e0-8015-4617-9aa2-903335970301",
   "metadata": {},
   "source": [
    "## D. Understanding user activity"
   ]
  },
  {
   "cell_type": "markdown",
   "id": "8c76e79d-591e-444b-a905-bccccebcd87e",
   "metadata": {},
   "source": [
    "### How many likes/retweets did the users place? How many unique likers/retweeters are in the dataset? \n",
    "\n",
    "The following tables and the plot provide some intel about the frequency whith which likers and retweeters were active. You'll learn how many very active users (place many likes/retweets) the dataset contains, how many users are one-time-only active in terms of liking/retweeting. You can explore the frequency tables for this purpose, or look at the plot. In the plot, likers are blue, retweeters are orange, and the number of placed likes/retweetes is found on the x-axis, with the share of likers/retweeters on the y-axis. \n",
    "\n",
    "The bottom dataframe summarizes this data. Again, you'll find the data concerning likes and retweets in the rows, respectively. In the columns, we collect some data summaries about, e.g., the (share of/number of) users that placed more than 1 like/retweet, up to the (share of/number of) users that placed more than 50 likes/retweets."
   ]
  },
  {
   "cell_type": "code",
   "execution_count": null,
   "id": "30c532c7",
   "metadata": {},
   "outputs": [],
   "source": [
    "freqtable_l, freqtable_r = make_frequency_table(likers, retweeters)"
   ]
  },
  {
   "cell_type": "code",
   "execution_count": null,
   "id": "ca8ca589",
   "metadata": {},
   "outputs": [],
   "source": [
    "freqtable_l.head()"
   ]
  },
  {
   "cell_type": "code",
   "execution_count": null,
   "id": "0494fb0b-dbec-46a9-89d6-322f26530d0a",
   "metadata": {},
   "outputs": [],
   "source": [
    "freqtable_r.head()"
   ]
  },
  {
   "cell_type": "code",
   "execution_count": null,
   "id": "0bce2c82",
   "metadata": {},
   "outputs": [],
   "source": [
    "plot_frequency(freqtable_l, freqtable_r)"
   ]
  },
  {
   "cell_type": "code",
   "execution_count": null,
   "id": "b546fb02",
   "metadata": {},
   "outputs": [],
   "source": [
    "users = pd.DataFrame()\n",
    "\n",
    "users.loc[1, 'users placed more than 1:'] = freqtable_l.loc[freqtable_l['placedlikes'] > 1, 'freqlikers'].sum()\n",
    "users.loc[2,'users placed more than 1:'] = freqtable_r.loc[freqtable_r['placedretweets'] > 1, 'freqretweeters'].sum()\n",
    "\n",
    "users.loc[1, '% users placed more than 1:'] = round((freqtable_l.loc[freqtable_l['placedlikes'] > 1, 'freqlikers'].sum())/sum(freqtable_l['freqlikers']),4)\n",
    "users.loc[2, '% users placed more than 1:'] = round((freqtable_r.loc[freqtable_r['placedretweets'] > 1, 'freqretweeters'].sum())/sum(freqtable_r['freqretweeters']),4)\n",
    "\n",
    "users.loc[1, 'users placed more than 2:'] = freqtable_l.loc[freqtable_l['placedlikes'] > 2, 'freqlikers'].sum()\n",
    "users.loc[2,'users placed more than 2:'] = freqtable_r.loc[freqtable_r['placedretweets'] > 2, 'freqretweeters'].sum()\n",
    "\n",
    "users.loc[1, '% users placed more than 2:'] = round((freqtable_l.loc[freqtable_l['placedlikes'] > 2, 'freqlikers'].sum())/sum(freqtable_l['freqlikers']),4)\n",
    "users.loc[2, '% users placed more than 2:'] = round((freqtable_r.loc[freqtable_r['placedretweets'] > 2, 'freqretweeters'].sum())/sum(freqtable_r['freqretweeters']),4)\n",
    "\n",
    "users.loc[1, 'users placed more than 3:'] = freqtable_l.loc[freqtable_l['placedlikes'] > 3, 'freqlikers'].sum()\n",
    "users.loc[2,'users placed more than 3:'] = freqtable_r.loc[freqtable_r['placedretweets'] > 3, 'freqretweeters'].sum()\n",
    "\n",
    "users.loc[1, '% users placed more than 3:'] = round((freqtable_l.loc[freqtable_l['placedlikes'] > 3, 'freqlikers'].sum())/sum(freqtable_l['freqlikers']),4)\n",
    "users.loc[2, '% users placed more than 3:'] = round((freqtable_r.loc[freqtable_r['placedretweets'] > 3, 'freqretweeters'].sum())/sum(freqtable_r['freqretweeters']),4)\n",
    "\n",
    "users.loc[1, 'users placed more than 4:'] = freqtable_l.loc[freqtable_l['placedlikes'] > 4, 'freqlikers'].sum()\n",
    "users.loc[2,'users placed more than 4:'] = freqtable_r.loc[freqtable_r['placedretweets'] > 4, 'freqretweeters'].sum()\n",
    "\n",
    "users.loc[1, '% users placed more than 4:'] = round((freqtable_l.loc[freqtable_l['placedlikes'] > 4, 'freqlikers'].sum())/sum(freqtable_l['freqlikers']),4)\n",
    "users.loc[2, '% users placed more than 4:'] = round((freqtable_r.loc[freqtable_r['placedretweets'] > 4, 'freqretweeters'].sum())/sum(freqtable_r['freqretweeters']),4)\n",
    "\n",
    "users.loc[1, 'users placed more than 50:'] = freqtable_l.loc[freqtable_l['placedlikes'] > 50, 'freqlikers'].sum()\n",
    "users.loc[2,'users placed more than 50:'] = freqtable_r.loc[freqtable_r['placedretweets'] > 50, 'freqretweeters'].sum()\n",
    "\n",
    "users.loc[1, '% users placed more than 50:'] = round((freqtable_l.loc[freqtable_l['placedlikes'] > 50, 'freqlikers'].sum())/sum(freqtable_l['freqlikers']),4)\n",
    "users.loc[2, '% users placed more than 50:'] = round((freqtable_r.loc[freqtable_r['placedretweets'] > 50, 'freqretweeters'].sum())/sum(freqtable_r['freqretweeters']),4)\n",
    "\n",
    "\n",
    "users.index = ['Likes', 'Retweets']\n",
    "users\n"
   ]
  },
  {
   "cell_type": "code",
   "execution_count": null,
   "id": "004d0c16",
   "metadata": {},
   "outputs": [],
   "source": []
  },
  {
   "cell_type": "markdown",
   "id": "baf76265",
   "metadata": {},
   "source": [
    "# E. Likes and Retweets over Time\n",
    "\n",
    "In this section, we look at how the likes and retweets of single tweets develop over time. The section requires that `over-time.sh` has been run one the `my_pull` data directory."
   ]
  },
  {
   "cell_type": "code",
   "execution_count": null,
   "id": "49523b4c",
   "metadata": {},
   "outputs": [],
   "source": [
    "likes_over_time = pd.read_pickle(os.path.join(my_pull,'over_time_likes.pkl'))\n",
    "retweets_over_time = pd.read_pickle(os.path.join(my_pull,'over_time_retweets.pkl'))"
   ]
  },
  {
   "cell_type": "markdown",
   "id": "9b9f6423",
   "metadata": {},
   "source": [
    "Let us plot them:"
   ]
  },
  {
   "cell_type": "code",
   "execution_count": null,
   "id": "8b1edf2d",
   "metadata": {},
   "outputs": [],
   "source": [
    "likes_transposed = likes_over_time.Tc"
   ]
  },
  {
   "cell_type": "code",
   "execution_count": null,
   "id": "39fbd5f4",
   "metadata": {},
   "outputs": [],
   "source": [
    "# likes_transposed.iloc[:,0:20].plot.line(legend=False)\n",
    "likes_transposed.plot.line(legend=False)"
   ]
  },
  {
   "cell_type": "code",
   "execution_count": null,
   "id": "bd27c92b",
   "metadata": {},
   "outputs": [],
   "source": [
    "# Sanity check:\n",
    "# For the dataset I looked at, I got True:\n",
    "likes_over_time.shape[1] == len(csvs)-1\n"
   ]
  },
  {
   "cell_type": "code",
   "execution_count": null,
   "id": "c698bf8f",
   "metadata": {},
   "outputs": [],
   "source": [
    "# Deleting the last csv \"fixed it\". The CSV turned out to be empty.\n",
    "csvs = glob.glob(os.path.join(my_pull,'CSVs/*.csv'))\n",
    "likes_over_time.shape[1] == len(csvs)"
   ]
  }
 ],
 "metadata": {
  "kernelspec": {
   "display_name": "Python 3",
   "language": "python",
   "name": "python3"
  },
  "language_info": {
   "codemirror_mode": {
    "name": "ipython",
    "version": 3
   },
   "file_extension": ".py",
   "mimetype": "text/x-python",
   "name": "python",
   "nbconvert_exporter": "python",
   "pygments_lexer": "ipython3",
   "version": "3.10.6 (main, Nov  2 2022, 18:53:38) [GCC 11.3.0]"
  },
  "vscode": {
   "interpreter": {
    "hash": "916dbcbb3f70747c44a77c7bcd40155683ae19c65e1c03b4aa3499c5328201f1"
   }
  }
 },
 "nbformat": 4,
 "nbformat_minor": 5
}
