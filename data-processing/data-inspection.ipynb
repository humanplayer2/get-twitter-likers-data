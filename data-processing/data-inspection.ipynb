{
 "cells": [
  {
   "cell_type": "markdown",
   "id": "e2fb5e40-ab19-44f9-9b44-7e0ce4832508",
   "metadata": {},
   "source": [
    "# Data Inspection\n",
    "\n",
    "**Prerequisite:** It is a prerequisite for this notebook that the  `binary-matrix.sh` and `time-series.sh` scripts have been run on the data folder of interest.\n",
    "\n",
    "#### Structure of this notebook:  \n",
    "    **Exploring the data and descriptive statistics:**   \n",
    "\n",
    "    A. Package and Data Load  \n",
    "    B. Understanding the Likers & Retweeters datasets  \n",
    "    C. Understanding script performance\n",
    "    D. Understanding user activity\n",
    "\n",
    "# A. Package and Data Load\n",
    "Specify your data directory in this section (`my_pull`)."
   ]
  },
  {
   "cell_type": "code",
   "execution_count": null,
   "id": "06e835fb-3e5e-4dd6-8d09-3106baf60722",
   "metadata": {},
   "outputs": [],
   "source": [
    "import os\n",
    "import glob\n",
    "import json\n",
    "import pandas as pd\n",
    "import csv\n",
    "import numpy as np\n",
    "import warnings\n",
    "warnings.simplefilter(action='ignore', category=FutureWarning)\n",
    "warnings.simplefilter(action='ignore', category=pd.errors.PerformanceWarning)\n",
    "import itertools\n",
    "from matplotlib import pyplot as plt\n",
    "from collections import Counter\n",
    "from ast import literal_eval\n",
    "newest_pull_directory = max(glob.glob('../Pull*'), key=os.path.getmtime)\n",
    "from resources.datainspection import *"
   ]
  },
  {
   "cell_type": "markdown",
   "id": "665113ad",
   "metadata": {},
   "source": [
    "`my_pull`: Set the data directory you want to inspect, e.g. Pull-DD-MM-YYYY-hour:minute:second, or use the newest by setting `my_pull = newest_pull_directory`."
   ]
  },
  {
   "cell_type": "code",
   "execution_count": null,
   "id": "5fdca6be-07fa-4f10-9134-70a6a54ac4b5",
   "metadata": {},
   "outputs": [],
   "source": [
    "my_pull = newest_pull_directory\n",
    "my_pull"
   ]
  },
  {
   "cell_type": "markdown",
   "id": "6a424a1b",
   "metadata": {},
   "source": [
    "Load the data.\n",
    "\n",
    "The data structures are described further below. In overview,\n",
    "- `likers` is the dataframe of tweets and all their observed likers,\n",
    "- `finalharvest_l` is the dataframe of tweets and likers observed during the final harvest,\n",
    "- `retweeters` and `finalharvest_r` are the same, but for retweeeters.\n",
    "- `timeseries_likes` and `timeseries_likes` are dataframes with all like/retweet counts over time."
   ]
  },
  {
   "cell_type": "code",
   "execution_count": null,
   "id": "36eeb83d",
   "metadata": {},
   "outputs": [],
   "source": [
    "likers = pd.read_pickle(os.path.join(my_pull,'binary-matrix-likers.pkl'))\n",
    "retweeters = pd.read_pickle(os.path.join(my_pull,'binary-matrix-retweeters.pkl'))\n",
    "finalharvest_l = pd.read_pickle(os.path.join(my_pull,'likers_final_harvest_complete.pkl'))\n",
    "finalharvest_r = pd.read_pickle(os.path.join(my_pull,'retweeters_final_harvest_complete.pkl'))\n",
    "finalharvest_l.index.names = ['tweet']\n",
    "finalharvest_r.index.names = ['tweet']\n",
    "timeseries_likes = pd.read_pickle(os.path.join(my_pull,'timeseries_likes.pkl'))\n",
    "timeseries_retweets = pd.read_pickle(os.path.join(my_pull,'timeseries_retweets.pkl'))"
   ]
  },
  {
   "cell_type": "markdown",
   "id": "85c7a167",
   "metadata": {},
   "source": [
    "# B. Exploring"
   ]
  },
  {
   "cell_type": "markdown",
   "id": "ae3f85e5",
   "metadata": {},
   "source": [
    "## Summary Numbers\n",
    "\n",
    "The following dataframe includes some summary totals of both `likers` and `retweeters`:"
   ]
  },
  {
   "cell_type": "code",
   "execution_count": null,
   "id": "b6b145dd",
   "metadata": {},
   "outputs": [],
   "source": [
    "totals = pd.DataFrame()\n",
    "totals.loc[1,'Total no. of: Liked Tweets'] = likers.shape[0]\n",
    "totals.loc[1,'Likers'] = likers.shape[1]\n",
    "totals.loc[1,'Likes'] = sum(likers.sum(axis = 1, skipna = True))\n",
    "totals.loc[1,'Retweeted Tweets'] = retweeters.shape[0]\n",
    "totals.loc[1,'Retweeters'] = retweeters.shape[1]\n",
    "totals.loc[1,'Retweets'] = sum(retweeters.sum(axis = 1, skipna = True))\n",
    "totals"
   ]
  },
  {
   "cell_type": "markdown",
   "id": "baf76265",
   "metadata": {},
   "source": [
    "## Likes and Retweets over Time\n",
    "\n",
    "We look at `timeseries_likes` and `timeseries_retweeets` to see the likes and retweets of our tweets develop over time, by plotting them.\n",
    "\n",
    "Pay atention to whether the plotlines are generally only increasing. The more up- and down oscillation you see, the less precise the below estimation of dataset completetion will be."
   ]
  },
  {
   "cell_type": "code",
   "execution_count": null,
   "id": "8b1edf2d",
   "metadata": {},
   "outputs": [],
   "source": [
    "likes_transposed = timeseries_likes.T\n",
    "retweets_transposed = timeseries_retweets.T"
   ]
  },
  {
   "cell_type": "code",
   "execution_count": null,
   "id": "39fbd5f4",
   "metadata": {},
   "outputs": [],
   "source": [
    "# All tweets:\n",
    "likes_transposed.plot.line(legend=False)\n",
    "plt.xlabel(\"Timesteps\")\n",
    "plt.ylabel('Likecount')\n",
    "# Subset only:\n",
    "# likes_transposed.iloc[:,0:20].plot.line(legend=False)\n",
    "# plt.set_xlabel(\"Timesteps\")\n",
    "# plt.set_ylabel('Likecount')"
   ]
  },
  {
   "cell_type": "code",
   "execution_count": null,
   "id": "39fbd5f4",
   "metadata": {},
   "outputs": [],
   "source": [
    "# All tweets:\n",
    "retweets_transposed.plot.line(legend=False)\n",
    "plt.xlabel(\"Timesteps\")\n",
    "plt.ylabel('Retweetcount')\n",
    "# \n",
    "# Subset only:\n",
    "# retweets_transposed.iloc[:,0:20].plot.line(legend=False)\n",
    "# plt.set_xlabel(\"Timesteps\")\n",
    "# plt.set_ylabel('Retweetcount')"
   ]
  },
  {
   "cell_type": "markdown",
   "id": "2576df9c",
   "metadata": {},
   "source": [
    "You may notice that some line end before others. That's because we stopped tracking the tweet then.\n",
    "\n",
    "Take a peak at `timeseries_retweets.head()`, and see that tweets will stop have recorded retweet counts, but start showing `NanN`."
   ]
  },
  {
   "cell_type": "code",
   "execution_count": null,
   "id": "71814cb3",
   "metadata": {},
   "outputs": [],
   "source": [
    "timeseries_retweets.head()"
   ]
  },
  {
   "cell_type": "markdown",
   "id": "b497becf",
   "metadata": {},
   "source": [
    "If you want to look up the like/retweet count of a given tweet at a given time, you can use syntax like this:\n",
    "\n",
    "timeseries_retweets.at[1537520976086421504,2]\n",
    "\n",
    "timeseries_retweets.loc[1537520976086421504,2]\n",
    "\n",
    "timeseries_retweets.iloc[1,2])"
   ]
  },
  {
   "cell_type": "markdown",
   "id": "f67d4f0e",
   "metadata": {},
   "source": [
    "## Lists of Likers\n",
    "\n",
    "Let us look at the dataset of liking users, stored in  `likers`. In `likers`, the row index is tweet ID and the column names are user names. A cell contains `1` if the user liked the tweet, else `NaN`. Both rows and columns are sorted: rows numerically, columns alphabetically. The `retweeters` and `finalharvest_` dataframes are structured in the same way.\n",
    "\n",
    "This section provides some examples of how to prod the `likers` matrix."
   ]
  },
  {
   "cell_type": "markdown",
   "id": "c34e6777",
   "metadata": {},
   "source": [
    "To find some tweet IDs, we may want to look up at the subsection of the first 3 tweets and the first 5 users, using `.iloc`:"
   ]
  },
  {
   "cell_type": "code",
   "execution_count": null,
   "id": "8688d780",
   "metadata": {},
   "outputs": [],
   "source": [
    "likers.iloc[0:3,0:5]"
   ]
  },
  {
   "cell_type": "markdown",
   "id": "e1ae8c4b",
   "metadata": {},
   "source": [
    "Or perhaps we want to look at the tweets with the highest like count (retweet count) at the time of final harvest:"
   ]
  },
  {
   "cell_type": "code",
   "execution_count": null,
   "id": "2cda100c",
   "metadata": {},
   "outputs": [],
   "source": [
    "finalharvest_l[['like_count']]\n",
    "#finalharvest_r[['retweet_count']]"
   ]
  },
  {
   "cell_type": "markdown",
   "id": "b3591ee4",
   "metadata": {},
   "source": [
    "As the index is the tweet ID, we can look up the row of a single tweet by using its ID and `.loc`. \n",
    "Here, we pass the list `[tweet]` to return a nice looking dataframe. If you'd rather want just a series, pass just `tweet`."
   ]
  },
  {
   "cell_type": "code",
   "execution_count": null,
   "id": "727fca75",
   "metadata": {},
   "outputs": [],
   "source": [
    "tweet = 1537712147500781569\n",
    "# likers.loc[tweet] # Series\n",
    "likers.loc[[tweet]] # Dataframe"
   ]
  },
  {
   "cell_type": "markdown",
   "id": "a85d1879",
   "metadata": {},
   "source": [
    "We can subset `likes` to only users that have liked the tweet by dropping columns with NaN values:"
   ]
  },
  {
   "cell_type": "code",
   "execution_count": null,
   "id": "be496aae",
   "metadata": {},
   "outputs": [],
   "source": [
    "likers.loc[[tweet]].dropna(axis='columns')"
   ]
  },
  {
   "cell_type": "markdown",
   "id": "d76c0864",
   "metadata": {},
   "source": [
    "We get a list of the liking users of the tweet by listing the columns names:"
   ]
  },
  {
   "cell_type": "code",
   "execution_count": null,
   "id": "5eef1754",
   "metadata": {},
   "outputs": [],
   "source": [
    "likers.loc[[tweet]].dropna(axis='columns').columns.values.tolist()"
   ]
  },
  {
   "cell_type": "markdown",
   "id": "6d9351ef-8e1b-4ec9-bc97-7145b564c7ef",
   "metadata": {},
   "source": [
    "## C. Checking dataset completeness\n",
    "\n",
    "This section investigates how complete the dataset is with respect to the collected likers and retweeters. \n",
    "\n",
    "To evaluate how complete the dataset is, we compare the number of likers/retweeters the script curated per tweet to the maximum number of likes/retweets the tweet has received across all observations. We suggest to compare with the maximal number (instead of, e.g., the latest number) of likes to account for retracted and deleted likes/retweets as well as deleted tweets.\n",
    "\n",
    "Example: We compare to the maximum number of likes instead of the latest number (e.g. last logged for final harvest) to account for the following case: A tweet may have gotten 100 likes early on that the script misses, and then slowly gets 100 more likes that the script all collects as intended, while the first 100 unlike or have their accounts deleted. Going by the latest like count, this would not inform us that we missed out, but tell us that we got 100 out of 100 likers.\n",
    "\n",
    "Further, please note that the like count at final harvest is the last like count logged during the observation period, and does not reflect the like count *at* time of final harvest collection. The logged final harvest like count only serves to sort the final harvest likers/retweeters collection such that likers of tweets with higher like counts are collected first.\n",
    "\n",
    "We apply the described completeness measure to the tweets that were also subject to collection in the final harvest."
   ]
  },
  {
   "cell_type": "markdown",
   "id": "ee8c3c1a",
   "metadata": {},
   "source": [
    "### C0. Maximal Like and Retweet Counts\n",
    "\n",
    "To implement the completeness measure, we add the final harvest like/retweet count to the timeseries dataframes,so we can find the maximum number of likes/retweets across all observations:"
   ]
  },
  {
   "cell_type": "code",
   "execution_count": null,
   "id": "539e650d",
   "metadata": {},
   "outputs": [],
   "source": [
    "timeseries_likes_all = timeseries_likes\n",
    "timeseries_retweets_all = timeseries_retweets\n",
    "for tweet in finalharvest_l.index:\n",
    "    timeseries_likes_all.at[tweet,'final'] = finalharvest_l.at[tweet,'like_count']\n",
    "for tweet in finalharvest_r.index:\n",
    "    timeseries_retweets_all.at[tweet,'final'] = finalharvest_r.at[tweet,'retweet_count']\n",
    "\n",
    "max_likes = timeseries_likes_all.max(axis=1)\n",
    "max_retweets = timeseries_retweets_all.max(axis=1)"
   ]
  },
  {
   "cell_type": "markdown",
   "id": "b73d9a24",
   "metadata": {},
   "source": [
    "For fun, let us print the tweets IDs of the tweets with most likes and retweets:"
   ]
  },
  {
   "cell_type": "code",
   "execution_count": null,
   "id": "974e5058",
   "metadata": {},
   "outputs": [],
   "source": [
    "print(\"Likes:   \", max_likes.idxmax(), max_likes.max())\n",
    "print(\"Retweets:\", max_retweets.idxmax(), max_retweets.max())"
   ]
  },
  {
   "cell_type": "markdown",
   "id": "781b0627",
   "metadata": {},
   "source": [
    "### C1. How many tweets were included in the final harvest?\n",
    "\n",
    "As we below subset to tweet included in the final harvest, it may be of interest to know how large a portion of all collected tweets this is:"
   ]
  },
  {
   "cell_type": "code",
   "execution_count": null,
   "id": "d408eb46",
   "metadata": {},
   "outputs": [],
   "source": [
    "all_vs_finalharvest = pd.DataFrame()\n",
    "all_vs_finalharvest.loc[1,'All'] = likers.shape[0]\n",
    "all_vs_finalharvest.loc[1,'Final harvest'] = finalharvest_l.shape[0]\n",
    "all_vs_finalharvest.loc[1,'%'] = (finalharvest_l.shape[0]/likers.shape[0])*100\n",
    "all_vs_finalharvest.loc[2,'All'] = retweeters.shape[0]\n",
    "all_vs_finalharvest.loc[2,'Final harvest'] = finalharvest_r.shape[0]\n",
    "all_vs_finalharvest.loc[2,'%'] = (finalharvest_r.shape[0]/retweeters.shape[0])*100\n",
    "all_vs_finalharvest = all_vs_finalharvest.apply(np.floor).astype('int')\n",
    "all_vs_finalharvest.index = ['Likes', 'Retweets']\n",
    "all_vs_finalharvest"
   ]
  },
  {
   "cell_type": "markdown",
   "id": "281dd45c",
   "metadata": {},
   "source": [
    "### C2. Plot overviews of missed likers and retweeters\n",
    "\n",
    "This section gives a visual overview of how complete the dataset is (again, measured by number of collected likers vs. maximum like count across all observations to account for deletions)."
   ]
  },
  {
   "cell_type": "code",
   "execution_count": null,
   "id": "19c32f14-4495-4f66-98d4-6667428e7362",
   "metadata": {},
   "outputs": [],
   "source": [
    "getindex = likers.index.intersection(finalharvest_l.index)\n",
    "subset_likerscomplete = likers.loc[getindex]\n",
    "# drop any columns that as a result only contain NaN, i.e. users that have not liked any of the final harvest tweets:\n",
    "subset_likerscomplete = subset_likerscomplete.dropna(how='all', axis=1) \n",
    "\n",
    "getindex = retweeters.index.intersection(finalharvest_r.index)\n",
    "subset_retweeterscomplete = retweeters.loc[getindex]\n",
    "# drop any columns that as a result only contain NaN, i.e. users that have not retweeted any of the final harvest tweets:\n",
    "subset_retweeterscomplete = subset_retweeterscomplete.dropna(how='all', axis=1) \n",
    "\n",
    "# like count at time of final harvest\n",
    "likecount = finalharvest_l['like_count']\n",
    "\n",
    "# Max like count filtered for tweets relevant at final harvest:\n",
    "max_likes.index.names = ['tweet']\n",
    "getindex = max_likes.index.intersection(likecount.index)\n",
    "subset_maxlikes = max_likes[getindex]\n",
    "\n",
    "# number of collected likers script performance\n",
    "likerscollected = subset_likerscomplete.sum(axis = 1, skipna = True) \n",
    "# retweet count at time of final harvest\n",
    "retweetcount = finalharvest_r['retweet_count']\n",
    "\n",
    "# Max retweet count filtered for tweets relevant at final harvest:\n",
    "max_retweets.index.names = ['tweet']\n",
    "getindex = max_retweets.index.intersection(retweetcount.index)\n",
    "subset_maxretweets = max_retweets[getindex]\n",
    "\n",
    "# number of collected retweeters\n",
    "retweeterscollected = subset_retweeterscomplete.sum(axis = 1, skipna = True) "
   ]
  },
  {
   "cell_type": "markdown",
   "id": "a29797e4",
   "metadata": {},
   "source": [
    "Sort the number of likers/retweeters we collected and the maxumum like/retweet number the same way (for plotting):"
   ]
  },
  {
   "cell_type": "code",
   "execution_count": null,
   "id": "690c5dae",
   "metadata": {},
   "outputs": [],
   "source": [
    "subset_maxlikes = subset_maxlikes.sort_values(ascending = False)\n",
    "likerscollected = likerscollected.reindex(subset_maxlikes.index)\n",
    "\n",
    "subset_maxretweets = subset_maxretweets.sort_values(ascending = False)\n",
    "retweeterscollected = retweeterscollected.reindex(subset_maxretweets.index)"
   ]
  },
  {
   "cell_type": "markdown",
   "id": "6b5f09d4",
   "metadata": {},
   "source": [
    "### C2.1 Relative number of missed likers and retweeters given the popularity of a tweet (absolute number of likes/retweets it attracts)\n",
    "\n",
    "This plot presents the relative number of missed likers (blue) and retweeters (orange), with tweets sorted by their popularity (number of likes/retweets they attract) on the x-axis and the share of missed likers and retweeters per tweet on the y-axis. \n",
    "\n",
    "You learn how many likers/retweeters relative to the total number of attracted likes/retweets the script missed in collecting.  \n",
    "\n",
    "You can learn from it that the script priotitises the collection of likers/retweeters for popular tweets. You should see that the script misses out on likers/retweeters relatively less when a tweet attracted many likers/retweeters. The script de-prioritises the collection of likers/retweeters for tweets that get few likes/retweeters.\n",
    "\n",
    "First, we seperately plot retweeters and likers, followed by a combined plot."
   ]
  },
  {
   "cell_type": "markdown",
   "id": "f572e908",
   "metadata": {},
   "source": [
    "Retweeters:"
   ]
  },
  {
   "cell_type": "code",
   "execution_count": null,
   "id": "722a4ec4",
   "metadata": {},
   "outputs": [],
   "source": [
    "plot_missed_scatter_single(subset_maxretweets,retweeterscollected, label = 'retweets', col = 'orange')"
   ]
  },
  {
   "cell_type": "markdown",
   "id": "8d33b806",
   "metadata": {},
   "source": [
    "Likers:"
   ]
  },
  {
   "cell_type": "code",
   "execution_count": null,
   "id": "547148e4",
   "metadata": {},
   "outputs": [],
   "source": [
    "plot_missed_scatter_single(subset_maxlikes,likerscollected, label = 'likes', col = 'dodgerblue')"
   ]
  },
  {
   "cell_type": "markdown",
   "id": "a0561c50",
   "metadata": {},
   "source": [
    "Likers and Retweeters in one plot:"
   ]
  },
  {
   "cell_type": "code",
   "execution_count": null,
   "id": "394a7d5c",
   "metadata": {},
   "outputs": [],
   "source": [
    "plot_missed_scatter_combined(subset_maxlikes, likerscollected, subset_maxretweets,retweeterscollected, label1 = 'likes', label2='retweets', col1='dodgerblue', col2='orange')"
   ]
  },
  {
   "cell_type": "markdown",
   "id": "1f0b0362",
   "metadata": {},
   "source": [
    "### C2.2 Absolute number of missed likers and retweeters \n",
    "\n",
    "This plot presents the *absolute* number of missed likers (blue) and retweeters (orange), with tweets on the x-axis and the number of missed likers and retweeters on the y-axis. \n",
    "\n",
    "You learn how many likers/retweeters the script missed in collecting, e.g. due a large batch (say, 200) placed simultaneously.\n"
   ]
  },
  {
   "cell_type": "code",
   "execution_count": null,
   "id": "1ada5939-b469-420e-abd8-d02dc23e2363",
   "metadata": {},
   "outputs": [],
   "source": [
    "# Absolute number of missed likes/retweets per tweet\n",
    "plot_missed(subset_maxlikes, likerscollected, subset_maxretweets, retweeterscollected)"
   ]
  },
  {
   "cell_type": "markdown",
   "id": "1f0b0362",
   "metadata": {},
   "source": [
    "### C2.3 Combined absolute and relative missed likers and reweeters.\n",
    "\n",
    "This plot--like C2.1, but slightly differently visualized--presents the relative number of missed likes (blue) and retweets (orange), with tweets on the x-axis and the share of missed likes and retweets on the y-axis. \n",
    "\n",
    "You learn how many likers/retweeters relative to the total number of attracted likes/retweets the script missed in collecting.  \n",
    "\n",
    "The dotted lines further tell you the total number of likes/retweets.\n",
    "\n",
    "As above, you can learn from it that the script priotitises the collection of likers/retweeters for popular tweets. You should see that the script misses out on likers/retweeters relatively less when a tweet attracted many likers/retweeters. The script de-prioritises the collection of likers/retweeters for tweets that get few likes/retweeters."
   ]
  },
  {
   "cell_type": "code",
   "execution_count": null,
   "id": "5c9d4a95",
   "metadata": {},
   "outputs": [],
   "source": [
    "# Supplemented with total number of likes/retweets each tweet attracted: \n",
    "plot_missed_relative_absolutecount(subset_maxlikes, likerscollected, subset_maxretweets, retweeterscollected)\n"
   ]
  },
  {
   "cell_type": "markdown",
   "id": "a19ad9e0",
   "metadata": {},
   "source": [
    "### C3. Details of missed likers and rewtweeters\n",
    "\n",
    "We turn to checking in details where likers and retweeters were missed.\n",
    "\n",
    "The following dataframe lists tweets according to the difference in like count at final harvest and number of collected likers:"
   ]
  },
  {
   "cell_type": "code",
   "execution_count": null,
   "id": "6d5b6d8c",
   "metadata": {},
   "outputs": [],
   "source": [
    "# inspect numbers more closely: likers\n",
    "d = {'Collected likers |': likerscollected, 'Max like count |': subset_maxlikes, 'Absolute difference |': subset_maxlikes-likerscollected, 'Percent missed': ((subset_maxlikes-likerscollected)/subset_maxlikes)*100}\n",
    "inspectlikes = pd.DataFrame(data=d).sort_values(by=['Absolute difference |'], ascending=False)\n",
    "inspectlikes#.astype({'Collected likers':'int', 'Absolute difference':'int'})"
   ]
  },
  {
   "cell_type": "markdown",
   "id": "bf3e1647",
   "metadata": {},
   "source": [
    "The following dataframe lists tweets according to the difference in retweet count at final harvest and number of collected retweeters:"
   ]
  },
  {
   "cell_type": "code",
   "execution_count": null,
   "id": "7c36cd12",
   "metadata": {},
   "outputs": [],
   "source": [
    "# inspect numbers more closely: retweeteres\n",
    "d = {'Collected retweeters |': retweeterscollected, 'Max retweet count |': subset_maxretweets, 'Absolute difference |': subset_maxretweets-retweeterscollected, 'Percent missed': ((subset_maxretweets-retweeterscollected)/subset_maxretweets)*100}\n",
    "inspectretweets = pd.DataFrame(data=d).sort_values(by=['Absolute difference |'], ascending=False)\n",
    "inspectretweets#.astype({'Collected retweeters':'int', 'Absolute difference':'int'})"
   ]
  },
  {
   "cell_type": "markdown",
   "id": "ed45abee",
   "metadata": {},
   "source": [
    "The following dataframe gives you and idea about the number of tweets (in % of all tweets monitored) where the script misses likers/retweeters in the collecton or where the script collected too many (when likes/retweets where deleted/retracted). \n",
    "\n",
    "Likers and retweeters are specified in row 1 and 2, respectively. E.g., from the first columnn you can learn for how many (%) tweets the script collected 10 or more too many likers/retweeters. Or, from the last column, you can learn for how mnay tweets (%), the script collected a complete collection of likers/retweeters (compared to time of final harvest). "
   ]
  },
  {
   "cell_type": "code",
   "execution_count": null,
   "id": "f40ae970",
   "metadata": {},
   "outputs": [],
   "source": [
    "perf = pd.DataFrame()\n",
    "perf.loc[1,'Too many: % with 10 or more too many:'] = round(len(inspectlikes[inspectlikes['Absolute difference |'] <-10])/len(inspectlikes),4)\n",
    "perf.loc[2,'Too many: % with 10 or more too many:'] = round(len(inspectretweets[inspectretweets['Absolute difference |'] <-10])/len(inspectretweets), 4)\n",
    "\n",
    "perf.loc[1, 'Too few: % with 10 or more missed:'] = round(len(inspectlikes[inspectlikes['Absolute difference |'] >10])/len(inspectlikes),4)\n",
    "perf.loc[2, 'Too few: % with 10 or more missed:'] = round(len(inspectretweets[inspectretweets['Absolute difference |'] >10])/len(inspectretweets),4)\n",
    "\n",
    "perf.loc[1,'Too many: % with 10% or more too many:'] = round(len(inspectlikes[inspectlikes['Percent missed'] <-10])/len(inspectlikes),4)\n",
    "perf.loc[2,'Too many: % with 10% or more too many:'] = round(len(inspectretweets[inspectretweets['Percent missed'] >10] )/len(inspectretweets),4)\n",
    "\n",
    "perf.loc[1, 'Too few: % with 10% or more missed:'] = round(len(inspectlikes[inspectlikes['Percent missed'] >10])/len(inspectlikes),4)\n",
    "perf.loc[2, 'Too few: % with 10% or more missed:'] = round(len(inspectretweets[inspectretweets['Percent missed'] <-10] )/len(inspectretweets),4)\n",
    "\n",
    "perf.loc[1, 'Match: % with neither too many nor too few:'] = round(len(inspectlikes[inspectlikes['Absolute difference |'] == 0])/len(inspectlikes),4)\n",
    "perf.loc[2, 'Match: % with neither too many nor too few:'] = round(len(inspectretweets[inspectretweets['Absolute difference |'] == 0])/len(inspectretweets),4)\n",
    "\n",
    "\n",
    "perf.index = ['Likes', 'Retweets']\n",
    "\n",
    "perf"
   ]
  },
  {
   "cell_type": "markdown",
   "id": "723c27e0-8015-4617-9aa2-903335970301",
   "metadata": {},
   "source": [
    "## D. Understanding user activity"
   ]
  },
  {
   "cell_type": "markdown",
   "id": "8c76e79d-591e-444b-a905-bccccebcd87e",
   "metadata": {},
   "source": [
    "### How many likes/retweets did the users place? How many unique likers/retweeters are in the dataset? \n",
    "\n",
    "The following tables and the plot provide some intel about the frequency whith which likers and retweeters were active. You'll learn how many very active users (place many likes/retweets) the dataset contains, how many users are one-time-only active in terms of liking/retweeting. You can explore the frequency tables for this purpose, or look at the plot. In the plot, likers are blue, retweeters are orange, and the number of placed likes/retweetes is found on the x-axis, with the share of likers/retweeters on the y-axis. \n",
    "\n",
    "The bottom dataframe summarizes this data. Again, you'll find the data concerning likes and retweets in the rows, respectively. In the columns, we collect some data summaries about, e.g., the (share of/number of) users that placed more than 1 like/retweet, up to the (share of/number of) users that placed more than 50 likes/retweets."
   ]
  },
  {
   "cell_type": "code",
   "execution_count": null,
   "id": "30c532c7",
   "metadata": {},
   "outputs": [],
   "source": [
    "freqtable_l, freqtable_r = make_frequency_table(likers, retweeters)"
   ]
  },
  {
   "cell_type": "code",
   "execution_count": null,
   "id": "ca8ca589",
   "metadata": {},
   "outputs": [],
   "source": [
    "freqtable_l.head()"
   ]
  },
  {
   "cell_type": "code",
   "execution_count": null,
   "id": "0494fb0b-dbec-46a9-89d6-322f26530d0a",
   "metadata": {},
   "outputs": [],
   "source": [
    "freqtable_r.head()"
   ]
  },
  {
   "cell_type": "code",
   "execution_count": null,
   "id": "0bce2c82",
   "metadata": {},
   "outputs": [],
   "source": [
    "plot_frequency(freqtable_l, freqtable_r)"
   ]
  },
  {
   "cell_type": "code",
   "execution_count": null,
   "id": "b546fb02",
   "metadata": {},
   "outputs": [],
   "source": [
    "users = pd.DataFrame()\n",
    "\n",
    "users.loc[1, 'users placed more than 1:'] = freqtable_l.loc[freqtable_l['placedlikes'] > 1, 'freqlikers'].sum()\n",
    "users.loc[2,'users placed more than 1:'] = freqtable_r.loc[freqtable_r['placedretweets'] > 1, 'freqretweeters'].sum()\n",
    "\n",
    "users.loc[1, '% users placed more than 1:'] = round((freqtable_l.loc[freqtable_l['placedlikes'] > 1, 'freqlikers'].sum())/sum(freqtable_l['freqlikers']),4)\n",
    "users.loc[2, '% users placed more than 1:'] = round((freqtable_r.loc[freqtable_r['placedretweets'] > 1, 'freqretweeters'].sum())/sum(freqtable_r['freqretweeters']),4)\n",
    "\n",
    "users.loc[1, 'users placed more than 2:'] = freqtable_l.loc[freqtable_l['placedlikes'] > 2, 'freqlikers'].sum()\n",
    "users.loc[2,'users placed more than 2:'] = freqtable_r.loc[freqtable_r['placedretweets'] > 2, 'freqretweeters'].sum()\n",
    "\n",
    "users.loc[1, '% users placed more than 2:'] = round((freqtable_l.loc[freqtable_l['placedlikes'] > 2, 'freqlikers'].sum())/sum(freqtable_l['freqlikers']),4)\n",
    "users.loc[2, '% users placed more than 2:'] = round((freqtable_r.loc[freqtable_r['placedretweets'] > 2, 'freqretweeters'].sum())/sum(freqtable_r['freqretweeters']),4)\n",
    "\n",
    "users.loc[1, 'users placed more than 3:'] = freqtable_l.loc[freqtable_l['placedlikes'] > 3, 'freqlikers'].sum()\n",
    "users.loc[2,'users placed more than 3:'] = freqtable_r.loc[freqtable_r['placedretweets'] > 3, 'freqretweeters'].sum()\n",
    "\n",
    "users.loc[1, '% users placed more than 3:'] = round((freqtable_l.loc[freqtable_l['placedlikes'] > 3, 'freqlikers'].sum())/sum(freqtable_l['freqlikers']),4)\n",
    "users.loc[2, '% users placed more than 3:'] = round((freqtable_r.loc[freqtable_r['placedretweets'] > 3, 'freqretweeters'].sum())/sum(freqtable_r['freqretweeters']),4)\n",
    "\n",
    "users.loc[1, 'users placed more than 4:'] = freqtable_l.loc[freqtable_l['placedlikes'] > 4, 'freqlikers'].sum()\n",
    "users.loc[2,'users placed more than 4:'] = freqtable_r.loc[freqtable_r['placedretweets'] > 4, 'freqretweeters'].sum()\n",
    "\n",
    "users.loc[1, '% users placed more than 4:'] = round((freqtable_l.loc[freqtable_l['placedlikes'] > 4, 'freqlikers'].sum())/sum(freqtable_l['freqlikers']),4)\n",
    "users.loc[2, '% users placed more than 4:'] = round((freqtable_r.loc[freqtable_r['placedretweets'] > 4, 'freqretweeters'].sum())/sum(freqtable_r['freqretweeters']),4)\n",
    "\n",
    "users.loc[1, 'users placed more than 50:'] = freqtable_l.loc[freqtable_l['placedlikes'] > 50, 'freqlikers'].sum()\n",
    "users.loc[2,'users placed more than 50:'] = freqtable_r.loc[freqtable_r['placedretweets'] > 50, 'freqretweeters'].sum()\n",
    "\n",
    "users.loc[1, '% users placed more than 50:'] = round((freqtable_l.loc[freqtable_l['placedlikes'] > 50, 'freqlikers'].sum())/sum(freqtable_l['freqlikers']),4)\n",
    "users.loc[2, '% users placed more than 50:'] = round((freqtable_r.loc[freqtable_r['placedretweets'] > 50, 'freqretweeters'].sum())/sum(freqtable_r['freqretweeters']),4)\n",
    "\n",
    "\n",
    "users.index = ['Likes', 'Retweets']\n",
    "users\n"
   ]
  }
 ],
 "metadata": {
  "kernelspec": {
   "display_name": "Python 3.10.4 64-bit",
   "language": "python",
   "name": "python3"
  },
  "language_info": {
   "codemirror_mode": {
    "name": "ipython",
    "version": 3
   },
   "file_extension": ".py",
   "mimetype": "text/x-python",
   "name": "python",
   "nbconvert_exporter": "python",
   "pygments_lexer": "ipython3",
   "version": "3.10.4"
  },
  "vscode": {
   "interpreter": {
    "hash": "aee8b7b246df8f9039afb4144a1f6fd8d2ca17a180786b69acc140d282b71a49"
   }
  }
 },
 "nbformat": 4,
 "nbformat_minor": 5
}
