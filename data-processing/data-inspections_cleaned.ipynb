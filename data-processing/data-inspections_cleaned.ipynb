{
 "cells": [
  {
   "cell_type": "markdown",
   "id": "e2fb5e40-ab19-44f9-9b44-7e0ce4832508",
   "metadata": {},
   "source": [
    "# Data Inspection\n",
    "\n",
    "**Prerequisite:** It is a prerequisite for this notebook that the  `binary-matrix.sh` script has been run on the data folder of interest.\n",
    "\n",
    "Action items: `TODO`, `QUESTION`\n",
    "\n",
    "#### Structure of this notebook:  \n",
    "    **Exploring the data and descriptive statistics:**   \n",
    "\n",
    "    A. Package and Data Load  \n",
    "    B. Understanding the Likers & Retweeters datasets  \n",
    "    C. Understanding script performance\n",
    "    D. Understanding user activity\n",
    "\n",
    "# A. Package and Data Load\n",
    "Specify your data directory in this secion (`my_pull`)."
   ]
  },
  {
   "cell_type": "code",
   "execution_count": null,
   "id": "06e835fb-3e5e-4dd6-8d09-3106baf60722",
   "metadata": {},
   "outputs": [],
   "source": [
    "import os\n",
    "import glob\n",
    "import json\n",
    "import pandas as pd\n",
    "import csv\n",
    "import numpy as np\n",
    "import warnings\n",
    "warnings.simplefilter(action='ignore', category=FutureWarning)\n",
    "warnings.simplefilter(action='ignore', category=pd.errors.PerformanceWarning)\n",
    "import itertools\n",
    "from matplotlib import pyplot as plt\n",
    "from collections import Counter\n",
    "from ast import literal_eval\n",
    "newest_pull_directory = max(glob.glob('../Pull*'), key=os.path.getmtime)\n",
    "from resources.datainspection import *"
   ]
  },
  {
   "cell_type": "markdown",
   "id": "665113ad",
   "metadata": {},
   "source": [
    "`my_pull`: Set the data directory you want to inspect, e.g. Pull-DD-MM-YYYY-hour:minute:second, or use the newest by setting `my_pull = newest_pull_directory`."
   ]
  },
  {
   "cell_type": "code",
   "execution_count": null,
   "id": "5fdca6be-07fa-4f10-9134-70a6a54ac4b5",
   "metadata": {},
   "outputs": [],
   "source": [
    "my_pull = newest_pull_directory\n",
    "my_pull"
   ]
  },
  {
   "cell_type": "markdown",
   "id": "6a424a1b",
   "metadata": {},
   "source": [
    "Load the data:"
   ]
  },
  {
   "cell_type": "code",
   "execution_count": null,
   "id": "36eeb83d",
   "metadata": {},
   "outputs": [],
   "source": [
    "likers = pd.read_pickle(os.path.join(my_pull,'binary-matrix-likers.pkl'))\n",
    "retweeters = pd.read_pickle(os.path.join(my_pull,'binary-matrix-retweeters.pkl'))\n",
    "likers_complete = likers\n",
    "retweeters_complete = retweeters\n",
    "finalharvest_l = pd.read_pickle(os.path.join(my_pull,'likers_final_harvest_complete.pkl'))\n",
    "finalharvest_r = pd.read_pickle(os.path.join(my_pull,'retweeters_final_harvest_complete.pkl'))\n",
    "finalharvest_l.index.names = ['tweet']\n",
    "finalharvest_r.index.names = ['tweet']"
   ]
  },
  {
   "cell_type": "markdown",
   "id": "85c7a167",
   "metadata": {},
   "source": [
    "# B. Exploring"
   ]
  },
  {
   "cell_type": "markdown",
   "id": "ae3f85e5",
   "metadata": {},
   "source": [
    "## Summary Numbers\n",
    "\n",
    "The following dataframe includes some summary numbers of both `likers` and `retweeters`:"
   ]
  },
  {
   "cell_type": "code",
   "execution_count": null,
   "id": "b6b145dd",
   "metadata": {},
   "outputs": [],
   "source": [
    "totals = pd.DataFrame()\n",
    "totals.loc[1,'Tweets Liked'] = likers.shape[0]\n",
    "totals.loc[1,'Likers'] = likers.shape[1]\n",
    "totals.loc[1,'Likes'] = sum(likers.sum(axis = 1, skipna = True))\n",
    "totals.loc[1,'Tweets Retweeted'] = retweeters.shape[0]\n",
    "totals.loc[1,'Retweeters'] = retweeters.shape[1]\n",
    "totals.loc[1,'Retweets'] = sum(retweeters.sum(axis = 1, skipna = True))\n",
    "totals"
   ]
  },
  {
   "cell_type": "markdown",
   "id": "f67d4f0e",
   "metadata": {},
   "source": [
    "## Likers\n",
    "\n",
    "Let us look at the dataset of liking users, stored in  `likers`. In `likers`, the row index is tweet ID and the column names are user names. A cell contains `1` if the user liked the tweet, else `NaN`. Both rows and columns are sorted: rows numerically, columns alphabetically. The `retweeters` and `finalharvest_` dataframes are structured in the same way.\n",
    "\n",
    "This section provides some examples of how to prod the `likers` matrix."
   ]
  },
  {
   "cell_type": "markdown",
   "id": "c34e6777",
   "metadata": {},
   "source": [
    "To find some tweet IDs, we may want to look up at the subsection of the first 3 tweets and the first 5 users, using `.iloc`:"
   ]
  },
  {
   "cell_type": "code",
   "execution_count": null,
   "id": "8688d780",
   "metadata": {},
   "outputs": [],
   "source": [
    "likers.iloc[0:3,0:5]"
   ]
  },
  {
   "cell_type": "markdown",
   "id": "b3591ee4",
   "metadata": {},
   "source": [
    "As the index is the tweet ID, we can look up the row of a single tweet by using its ID and `.loc`. \n",
    "Here, we pass the list `[tweet]` to return a nice looking dataframe. If you'd rather want just a series, pass just `tweet`."
   ]
  },
  {
   "cell_type": "code",
   "execution_count": null,
   "id": "727fca75",
   "metadata": {},
   "outputs": [],
   "source": [
    "tweet = 1537712147500781569\n",
    "# likers.loc[tweet] # Series\n",
    "likers.loc[[tweet]] # Dataframe"
   ]
  },
  {
   "cell_type": "markdown",
   "id": "a85d1879",
   "metadata": {},
   "source": [
    "We can subset dataframe to only users that have liked the tweet by dropping columns with NaN values:"
   ]
  },
  {
   "cell_type": "code",
   "execution_count": null,
   "id": "be496aae",
   "metadata": {},
   "outputs": [],
   "source": [
    "likers.loc[[tweet]].dropna(axis='columns')"
   ]
  },
  {
   "cell_type": "markdown",
   "id": "d76c0864",
   "metadata": {},
   "source": [
    "We get a list of the liking users of the tweet by listing the columns names:"
   ]
  },
  {
   "cell_type": "code",
   "execution_count": null,
   "id": "5eef1754",
   "metadata": {},
   "outputs": [],
   "source": [
    "likers.loc[[tweet]].dropna(axis='columns').columns.values.tolist()"
   ]
  },
  {
   "cell_type": "markdown",
   "id": "6d9351ef-8e1b-4ec9-bc97-7145b564c7ef",
   "metadata": {},
   "source": [
    "## C. Understanding script performance\n",
    "### How many likers/retweeters did the script curate? We are looking at a dataset comprising those tweets that were also one last time collected in the final harvest\n",
    "\n",
    "TODO: Write text for this section"
   ]
  },
  {
   "cell_type": "code",
   "execution_count": null,
   "id": "d408eb46",
   "metadata": {},
   "outputs": [],
   "source": [
    "# Optional: How many tweets got <my_likersAtLeast> likes? How many tweets got <my_retweetersAtLeast> retweets?\n",
    "# see parameters my_likersAtLeast/my_retweetersAtLeast\n",
    "my_likersAtLeast = 10 # TODO SET YOUR PARAMTER HERE\n",
    "my_retweetersAtLeast = 3 # TODO SET YOUR PARAMETER HERE\n",
    "\n",
    "Atleast = pd.DataFrame()\n",
    "Atleast.loc[1, 'All tweets liked'] = likers.shape[0]\n",
    "Atleast.loc[1,'Tweets with my_likersAtLeast'] = sum((likers.sum(axis = 1, skipna = True)) >= my_likersAtLeast) \n",
    "Atleast.loc[1, 'All tweets retweeted'] = retweeters.shape[0]\n",
    "Atleast.loc[1,'Tweets with my_retweetersAtLeast'] = sum((retweeters.sum(axis = 1, skipna = True)) >= my_retweetersAtLeast) \n",
    "Atleast"
   ]
  },
  {
   "cell_type": "code",
   "execution_count": null,
   "id": "24f493a1-de89-407d-863f-544f18012287",
   "metadata": {},
   "outputs": [],
   "source": [
    "subset_likerscomplete = pd.merge(likers_complete, finalharvest_l, left_index=True, right_index=True)\n",
    "subset_retweeterscomplete = pd.merge(retweeters_complete, finalharvest_r, left_index=True, right_index=True)"
   ]
  },
  {
   "cell_type": "code",
   "execution_count": null,
   "id": "19c32f14-4495-4f66-98d4-6667428e7362",
   "metadata": {},
   "outputs": [],
   "source": [
    "# like count at time of final harvest\n",
    "likecount = finalharvest_l['like_count']\n",
    "# number of collected likers \n",
    "likerscollected = subset_likerscomplete.sum(axis = 1, skipna = True) \n",
    "# retweet count at time of final harvest\n",
    "retweetcount = finalharvest_r['retweet_count']\n",
    "# number of collected retweeters\n",
    "retweeterscollected = subset_retweeterscomplete.sum(axis = 1, skipna = True) "
   ]
  },
  {
   "cell_type": "code",
   "execution_count": null,
   "id": "1ada5939-b469-420e-abd8-d02dc23e2363",
   "metadata": {},
   "outputs": [],
   "source": [
    "# Absolute number of missed likes/retweets per tweet\n",
    "plot_missed(likecount, likerscollected, retweetcount, retweeterscollected)"
   ]
  },
  {
   "cell_type": "code",
   "execution_count": null,
   "id": "fda33e12-b031-4fc2-b802-b3c2bab140b0",
   "metadata": {},
   "outputs": [],
   "source": [
    "# Share of missed likes/retweets given total of received likes/retweets per tweet\n",
    "plot_missed_relative(likecount, likerscollected, retweetcount, retweeterscollected)"
   ]
  },
  {
   "cell_type": "code",
   "execution_count": null,
   "id": "5c9d4a95",
   "metadata": {},
   "outputs": [],
   "source": [
    "# Supplemented with total number of likes/retweets each tweet attracted: \n",
    "plot_missed_relative_absolutecount(likecount, likerscollected, retweetcount, retweeterscollected)\n"
   ]
  },
  {
   "cell_type": "code",
   "execution_count": null,
   "id": "6d5b6d8c",
   "metadata": {},
   "outputs": [],
   "source": [
    "# inspect numbers more closely: likers\n",
    "d = {'collected likers': likerscollected, 'likecount': likecount, 'difference': likecount-likerscollected, 'percent': ((likecount-likerscollected)/likecount)}\n",
    "inspectlikes = pd.DataFrame(data=d)\n",
    "inspectlikes"
   ]
  },
  {
   "cell_type": "code",
   "execution_count": null,
   "id": "7c36cd12",
   "metadata": {},
   "outputs": [],
   "source": [
    "# inspect numbers more closely: retweeteres\n",
    "d = {'collected retweeters': retweeterscollected, 'retweetcount': retweetcount, 'difference': retweetcount-retweeterscollected, 'percent': ((retweetcount-retweeterscollected)/retweetcount)}\n",
    "inspectretweets = pd.DataFrame(data=d)\n",
    "inspectretweets"
   ]
  },
  {
   "cell_type": "code",
   "execution_count": null,
   "id": "f40ae970",
   "metadata": {},
   "outputs": [],
   "source": [
    "perf = pd.DataFrame()\n",
    "perf.loc[1, '% tweets with 10 or more too many (deleted):'] = round(len(inspectlikes[inspectlikes['difference'] <-10])/len(inspectlikes),4)\n",
    "perf.loc[2,'% tweets with 10 or more too many (deleted):'] = round(len(inspectretweets[inspectretweets['difference'] <-10])/len(inspectretweets), 4)\n",
    "\n",
    "perf.loc[1, '% tweets with 10 or more missed:'] = round(len(inspectlikes[inspectlikes['difference'] >10])/len(inspectlikes),4)\n",
    "perf.loc[2, '% tweets with 10 or more missed:'] = round(len(inspectretweets[inspectretweets['difference'] >10])/len(inspectretweets),4)\n",
    "\n",
    "perf.loc[1, '% tweets with 10% or more too many (deleted):'] = round(len(inspectlikes[inspectlikes['percent'] <-.1])/len(inspectlikes),4)\n",
    "perf.loc[2,'% tweets with 10% or more too many (deleted):'] = round(len(inspectretweets[inspectretweets['percent'] >.1] )/len(inspectretweets),4)\n",
    "\n",
    "\n",
    "perf.loc[1, '% tweets with 10% or more missed:'] = round(len(inspectlikes[inspectlikes['percent'] >.1])/len(inspectlikes),4)\n",
    "perf.loc[2, '% tweets with 10% or more missed:'] = round(len(inspectretweets[inspectretweets['percent'] <-.1] )/len(inspectretweets),4)\n",
    "\n",
    "perf.loc[1, '% tweets with complete:'] = round(len(inspectlikes[inspectlikes['difference'] == 0])/len(inspectlikes),4)\n",
    "perf.loc[2, '% tweets with complete:'] = round(len(inspectretweets[inspectretweets['difference'] == 0])/len(inspectretweets),4)\n",
    "\n",
    "\n",
    "perf.index = ['Likes', 'Retweets']\n",
    "\n",
    "perf"
   ]
  },
  {
   "cell_type": "code",
   "execution_count": null,
   "id": "fb83875f",
   "metadata": {},
   "outputs": [],
   "source": [
    "# Inspect (highly popular) tweets in terms of like count\n",
    "likecount"
   ]
  },
  {
   "cell_type": "code",
   "execution_count": null,
   "id": "553c2a11",
   "metadata": {},
   "outputs": [],
   "source": [
    "# Inspect (highly popular) tweets in terms of retweet count\n",
    "retweetcount"
   ]
  },
  {
   "cell_type": "markdown",
   "id": "723c27e0-8015-4617-9aa2-903335970301",
   "metadata": {},
   "source": [
    "## D. Understanding user activity"
   ]
  },
  {
   "cell_type": "markdown",
   "id": "8c76e79d-591e-444b-a905-bccccebcd87e",
   "metadata": {},
   "source": [
    "### How many likes/retweets did the users place? How many unique likers/retweeters are in the dataset? \n",
    "\n",
    "TODO: Write text for this section"
   ]
  },
  {
   "cell_type": "code",
   "execution_count": null,
   "id": "30c532c7",
   "metadata": {},
   "outputs": [],
   "source": [
    "freqtable_l, freqtable_r = make_frequency_table(likers_complete, retweeters_complete)"
   ]
  },
  {
   "cell_type": "code",
   "execution_count": null,
   "id": "ca8ca589",
   "metadata": {},
   "outputs": [],
   "source": [
    "freqtable_l.head()"
   ]
  },
  {
   "cell_type": "code",
   "execution_count": null,
   "id": "0494fb0b-dbec-46a9-89d6-322f26530d0a",
   "metadata": {},
   "outputs": [],
   "source": [
    "freqtable_r.head()"
   ]
  },
  {
   "cell_type": "code",
   "execution_count": null,
   "id": "0bce2c82",
   "metadata": {},
   "outputs": [],
   "source": [
    "plot_frequency(freqtable_l, freqtable_r)"
   ]
  },
  {
   "cell_type": "code",
   "execution_count": null,
   "id": "b546fb02",
   "metadata": {},
   "outputs": [],
   "source": [
    "users = pd.DataFrame()\n",
    "\n",
    "users.loc[1, 'users placed more than 1:'] = freqtable_l.loc[freqtable_l['placedlikes'] > 1, 'freqlikers'].sum()\n",
    "users.loc[2,'users placed more than 1:'] = freqtable_r.loc[freqtable_r['placedretweets'] > 1, 'freqretweeters'].sum()\n",
    "\n",
    "users.loc[1, '% users placed more than 1:'] = round((freqtable_l.loc[freqtable_l['placedlikes'] > 1, 'freqlikers'].sum())/sum(freqtable_l['freqlikers']),4)\n",
    "users.loc[2, '% users placed more than 1:'] = round((freqtable_r.loc[freqtable_r['placedretweets'] > 1, 'freqretweeters'].sum())/sum(freqtable_r['freqretweeters']),4)\n",
    "\n",
    "users.loc[1, 'users placed more than 2:'] = freqtable_l.loc[freqtable_l['placedlikes'] > 2, 'freqlikers'].sum()\n",
    "users.loc[2,'users placed more than 2:'] = freqtable_r.loc[freqtable_r['placedretweets'] > 2, 'freqretweeters'].sum()\n",
    "\n",
    "users.loc[1, '% users placed more than 2:'] = round((freqtable_l.loc[freqtable_l['placedlikes'] > 2, 'freqlikers'].sum())/sum(freqtable_l['freqlikers']),4)\n",
    "users.loc[2, '% users placed more than 2:'] = round((freqtable_r.loc[freqtable_r['placedretweets'] > 2, 'freqretweeters'].sum())/sum(freqtable_r['freqretweeters']),4)\n",
    "\n",
    "users.loc[1, 'users placed more than 3:'] = freqtable_l.loc[freqtable_l['placedlikes'] > 3, 'freqlikers'].sum()\n",
    "users.loc[2,'users placed more than 3:'] = freqtable_r.loc[freqtable_r['placedretweets'] > 3, 'freqretweeters'].sum()\n",
    "\n",
    "users.loc[1, '% users placed more than 3:'] = round((freqtable_l.loc[freqtable_l['placedlikes'] > 3, 'freqlikers'].sum())/sum(freqtable_l['freqlikers']),4)\n",
    "users.loc[2, '% users placed more than 3:'] = round((freqtable_r.loc[freqtable_r['placedretweets'] > 3, 'freqretweeters'].sum())/sum(freqtable_r['freqretweeters']),4)\n",
    "\n",
    "users.loc[1, 'users placed more than 4:'] = freqtable_l.loc[freqtable_l['placedlikes'] > 4, 'freqlikers'].sum()\n",
    "users.loc[2,'users placed more than 4:'] = freqtable_r.loc[freqtable_r['placedretweets'] > 4, 'freqretweeters'].sum()\n",
    "\n",
    "users.loc[1, '% users placed more than 4:'] = round((freqtable_l.loc[freqtable_l['placedlikes'] > 4, 'freqlikers'].sum())/sum(freqtable_l['freqlikers']),4)\n",
    "users.loc[2, '% users placed more than 4:'] = round((freqtable_r.loc[freqtable_r['placedretweets'] > 4, 'freqretweeters'].sum())/sum(freqtable_r['freqretweeters']),4)\n",
    "\n",
    "users.loc[1, 'users placed more than 50:'] = freqtable_l.loc[freqtable_l['placedlikes'] > 50, 'freqlikers'].sum()\n",
    "users.loc[2,'users placed more than 50:'] = freqtable_r.loc[freqtable_r['placedretweets'] > 50, 'freqretweeters'].sum()\n",
    "\n",
    "users.loc[1, '% users placed more than 50:'] = round((freqtable_l.loc[freqtable_l['placedlikes'] > 50, 'freqlikers'].sum())/sum(freqtable_l['freqlikers']),4)\n",
    "users.loc[2, '% users placed more than 50:'] = round((freqtable_r.loc[freqtable_r['placedretweets'] > 50, 'freqretweeters'].sum())/sum(freqtable_r['freqretweeters']),4)\n",
    "\n",
    "\n",
    "users.index = ['Likes', 'Retweets']\n",
    "users\n"
   ]
  }
 ],
 "metadata": {
  "kernelspec": {
   "display_name": "Python 3",
   "language": "python",
   "name": "python3"
  },
  "language_info": {
   "codemirror_mode": {
    "name": "ipython",
    "version": 3
   },
   "file_extension": ".py",
   "mimetype": "text/x-python",
   "name": "python",
   "nbconvert_exporter": "python",
   "pygments_lexer": "ipython3",
   "version": "3.10.6"
  },
  "vscode": {
   "interpreter": {
    "hash": "916dbcbb3f70747c44a77c7bcd40155683ae19c65e1c03b4aa3499c5328201f1"
   }
  }
 },
 "nbformat": 4,
 "nbformat_minor": 5
}
