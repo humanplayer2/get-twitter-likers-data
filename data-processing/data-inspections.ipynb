{
 "cells": [
  {
   "cell_type": "markdown",
   "id": "e2fb5e40-ab19-44f9-9b44-7e0ce4832508",
   "metadata": {},
   "source": [
    "# Data Inspection\n",
    "\n",
    "Action items: `TODO`, `QUESTION`\n",
    "\n",
    "#### Structure of this notebook:  \n",
    "    **Exploring the data and descriptive statistics:**   \n",
    "\n",
    "    A. Package and Data Load  \n",
    "    B. Understanding the Likers & Retweeters datasets  \n",
    "    C. Understanding script performance\n",
    "    D. Understanding user activity\n",
    "\n",
    "# A. Package and Data Load\n",
    "Specify your data directory in this secion (`my_pull`)."
   ]
  },
  {
   "cell_type": "code",
   "execution_count": null,
   "id": "06e835fb-3e5e-4dd6-8d09-3106baf60722",
   "metadata": {
    "vscode": {
     "languageId": "shellscript"
    }
   },
   "outputs": [],
   "source": [
    "import os\n",
    "import glob\n",
    "import json\n",
    "import pandas as pd\n",
    "import csv\n",
    "import numpy as np\n",
    "import warnings\n",
    "warnings.simplefilter(action='ignore', category=FutureWarning)\n",
    "warnings.simplefilter(action='ignore', category=pd.errors.PerformanceWarning)\n",
    "import itertools\n",
    "from matplotlib import pyplot as plt\n",
    "from collections import Counter\n",
    "from ast import literal_eval\n",
    "newest_pull_directory = max(glob.glob('../Pull*'), key=os.path.getmtime)"
   ]
  },
  {
   "cell_type": "markdown",
   "id": "665113ad",
   "metadata": {},
   "source": [
    "`my_pull`: Set the data directory you want to inspect, e.g. Pull-DD-MM-YYYY-hour:minute:second, or use the newest by setting `my_pull = newest_pull_directory`."
   ]
  },
  {
   "cell_type": "code",
   "execution_count": null,
   "id": "5fdca6be-07fa-4f10-9134-70a6a54ac4b5",
   "metadata": {
    "vscode": {
     "languageId": "shellscript"
    }
   },
   "outputs": [],
   "source": [
    "my_pull = newest_pull_directory\n",
    "my_pull"
   ]
  },
  {
   "cell_type": "markdown",
   "id": "6a424a1b",
   "metadata": {},
   "source": [
    "Load the data:"
   ]
  },
  {
   "cell_type": "code",
   "execution_count": null,
   "id": "36eeb83d",
   "metadata": {
    "vscode": {
     "languageId": "shellscript"
    }
   },
   "outputs": [],
   "source": [
    "likers = pd.read_pickle(os.path.join(my_pull,'binary-matrix-likers.pkl'))\n",
    "retweeters = pd.read_pickle(os.path.join(my_pull,'binary-matrix-retweeters.pkl'))\n",
    "likers_complete = likers\n",
    "retweeters_complete = retweeters\n",
    "finalharvest_l = pd.read_pickle(os.path.join(my_pull,'likers_final_harvest_complete.pkl'))\n",
    "finalharvest_r = pd.read_pickle(os.path.join(my_pull,'retweeters_final_harvest_complete.pkl'))\n",
    "finalharvest_l.index.names = ['tweet']\n",
    "finalharvest_r.index.names = ['tweet']\n"
   ]
  },
  {
   "cell_type": "markdown",
   "id": "85c7a167",
   "metadata": {},
   "source": [
    "# B. Exploring\n",
    "\n",
    "Let us look at the dataset of liking users, stored in  `likers`. In `likers`, the row index is tweet ID and the column names are user names. A cell contains `1` if the user liked the tweet, else `NaN`. Both rows and columns are sorted: rows numerically, columns alphabetically. The `retweeters` and `finalharvest_` dataframes are structured in the same way.\n",
    "\n",
    "The next cells are examples of the following:\n",
    "\n",
    "1. As the index is the tweet ID, we can look up a single tweet by using its ID, using `.loc`.\n",
    "2. To find some tweet IDs, we may want to look up at the subsection of the first 3 tweets and the first 5 users, using `.iloc`.\n",
    "3. TODO: List of linking users of a single tweet."
   ]
  },
  {
   "cell_type": "code",
   "execution_count": null,
   "id": "727fca75",
   "metadata": {
    "vscode": {
     "languageId": "shellscript"
    }
   },
   "outputs": [],
   "source": [
    "likers.loc[1537712147500781569]"
   ]
  },
  {
   "cell_type": "code",
   "execution_count": null,
   "id": "8688d780",
   "metadata": {
    "vscode": {
     "languageId": "shellscript"
    }
   },
   "outputs": [],
   "source": [
    "likers.iloc[0:3,0:5]"
   ]
  },
  {
   "cell_type": "markdown",
   "id": "ae3f85e5",
   "metadata": {},
   "source": [
    "## Summary Numbers\n",
    "\n",
    "TODO: Write text\n",
    "\n",
    "QUESTION: I've commented out the sanity checkes, as I assume they were for us?\n",
    "\n",
    "TODO: Comment in or delete.checkes"
   ]
  },
  {
   "cell_type": "code",
   "execution_count": null,
   "id": "b6b145dd",
   "metadata": {
    "vscode": {
     "languageId": "shellscript"
    }
   },
   "outputs": [],
   "source": [
    "totals = pd.DataFrame()\n",
    "totals.loc[1,'Tweets Liked'] = likers.shape[0]\n",
    "totals.loc[1,'Likers'] = likers.shape[1]\n",
    "totals.loc[1,'Likes'] = sum(likers.sum(axis = 1, skipna = True))\n",
    "#totals.loc[1,'Sanity Check 1'] = sum(likers.sum(axis = 0, skipna = True))\n",
    "totals.loc[1,'Tweets Retweeted'] = retweeters.shape[0]\n",
    "totals.loc[1,'Retweeters'] = retweeters.shape[1]\n",
    "totals.loc[1,'Retweets'] = sum(retweeters.sum(axis = 1, skipna = True))\n",
    "#totals.loc[1,'Sanity Check 2'] = sum(retweeters.sum(axis = 0, skipna = True))\n",
    "totals"
   ]
  },
  {
   "cell_type": "markdown",
   "id": "854452bd",
   "metadata": {},
   "source": [
    "QUESTION: **Is the below correct?**\n",
    "\n",
    "I refrained from putting it in the table as I'm not sure: I might misread the code, but doesn't the below tell us how many tweets *ought to have been* checked in the final harvest, not how many *actually were*? Maybe the two cannot differ?\n",
    "\n",
    "TODO: Add to table or fix and add to table or delete"
   ]
  },
  {
   "cell_type": "code",
   "execution_count": null,
   "id": "a2c56a34-4fb9-446f-ba37-01adf70ba37e",
   "metadata": {
    "vscode": {
     "languageId": "shellscript"
    }
   },
   "outputs": [],
   "source": [
    "# How many tweets were subject to collection in the final harvest of likers?: those tweets that were subject to final data collection \n",
    "# in the final harvest (see parameters my_likersAtLeast)\n",
    "my_likersAtLeast = # SET PARAMETER HERE\n",
    "sum(numberlikes_rows >= my_likersAtLeast) \n",
    "# this is the number of tweets with at least my_likersAtLeast likes\n",
    "#\n",
    "# How many tweets were subject to collection in the final harvest of retweeters?: those tweets that were subject to final data collection \n",
    "# in the final harvest (see parameters my_retweetersAtLeast)\n",
    "my_retweetersAtLeast = # SET PARAMETER HERE\n",
    "sum(numberretweets_rows>=my_retweetersAtLeast) \n",
    "# this is the number of tweets with at least my_retweetersAtLeast retweets"
   ]
  },
  {
   "cell_type": "markdown",
   "id": "6d9351ef-8e1b-4ec9-bc97-7145b564c7ef",
   "metadata": {},
   "source": [
    "## C. Understanding script performance\n",
    "### How many likers/retweeters did the script curate? Dataset comprising those tweets that were one last time collected in the final harvest"
   ]
  },
  {
   "cell_type": "code",
   "execution_count": null,
   "id": "24f493a1-de89-407d-863f-544f18012287",
   "metadata": {
    "vscode": {
     "languageId": "shellscript"
    }
   },
   "outputs": [],
   "source": [
    "subset_likerscomplete = pd.merge(likers_complete, finalharvest_l, left_index=True, right_index=True)\n",
    "subset_retweeterscomplete = pd.merge(retweeters_complete, finalharvest_r, left_index=True, right_index=True)"
   ]
  },
  {
   "cell_type": "code",
   "execution_count": null,
   "id": "19c32f14-4495-4f66-98d4-6667428e7362",
   "metadata": {
    "vscode": {
     "languageId": "shellscript"
    }
   },
   "outputs": [],
   "source": [
    "# like count at time of final harvest\n",
    "likecount = finalharvest_l['like_count']\n",
    "# number of collected likers \n",
    "likerscollected = subset_likerscomplete.sum(axis = 1, skipna = True) \n",
    "# retweet count at time of final harvest\n",
    "retweetcount = finalharvest_r['retweet_count']\n",
    "# number of collected retweeters\n",
    "retweeterscollected = subset_retweeterscomplete.sum(axis = 1, skipna = True) "
   ]
  },
  {
   "cell_type": "code",
   "execution_count": null,
   "id": "1ada5939-b469-420e-abd8-d02dc23e2363",
   "metadata": {
    "vscode": {
     "languageId": "shellscript"
    }
   },
   "outputs": [],
   "source": [
    "# Absolute number of missed likes/retweets per tweet\n",
    "fig, ax = plt.subplots(figsize =(18, 10)) \n",
    "\n",
    "plt.plot(list(range(0,len(likecount),1)),likecount-likerscollected, label = 'Missed likes', alpha = 0.7, linewidth = .5)\n",
    "plt.plot(list(range(0,len(retweetcount),1)),retweetcount-retweeterscollected, label = 'Missed retweets', alpha = 0.9, linewidth = .5)\n",
    "plt.legend(loc=\"upper right\", prop={'size': 10})\n",
    "\n",
    "ax.set_xlabel(\"Tweets\")\n",
    "ax.set_ylabel('Likes/retweeters not collected')"
   ]
  },
  {
   "cell_type": "code",
   "execution_count": null,
   "id": "fda33e12-b031-4fc2-b802-b3c2bab140b0",
   "metadata": {
    "vscode": {
     "languageId": "shellscript"
    }
   },
   "outputs": [],
   "source": [
    "# Share of missed likes/retweets given total of received likes/retweets per tweet\n",
    "fig, ax = plt.subplots(figsize =(20, 10)) \n",
    "\n",
    "plt.plot(list(range(0,len(likecount),1)),((likecount-likerscollected)/likecount), label = 'Missed likes', alpha = 0.7, linewidth = .5)\n",
    "plt.plot(list(range(0,len(retweetcount),1)),((retweetcount-retweeterscollected)/retweetcount), label = 'Missed retweets', alpha = 0.6, linewidth = .5)\n",
    "\n",
    "plt.legend(loc=\"upper right\", prop={'size': 10})\n",
    "\n",
    "ax.set_xlabel(\"Tweets\")\n",
    "ax.set_ylabel('Share of likers/retweeters per tweet not collected')"
   ]
  },
  {
   "cell_type": "markdown",
   "id": "d32ce369",
   "metadata": {},
   "source": [
    "TODO: 'likesseries' not defined."
   ]
  },
  {
   "cell_type": "code",
   "execution_count": null,
   "id": "c98af9bb-c8dc-41fc-a4bc-deb7f3e007aa",
   "metadata": {
    "vscode": {
     "languageId": "shellscript"
    }
   },
   "outputs": [],
   "source": [
    "# Supplemented with total number of likes/retweets each tweet attracted: \n",
    "xvalretweeters = list(range(1,len(retweetcount)+1,1))\n",
    "xvallikers= list(range(1,len(likecount)+1,1))\n",
    "\n",
    "SMALL_SIZE = 8\n",
    "MEDIUM_SIZE = 16\n",
    "BIGGER_SIZE = 12\n",
    "\n",
    "plt.rc('font', size=MEDIUM_SIZE)          # controls default text sizes\n",
    "plt.rc('axes', titlesize=MEDIUM_SIZE)     # fontsize of the axes title\n",
    "plt.rc('axes', labelsize=MEDIUM_SIZE)     # fontsize of the x and y labels\n",
    "plt.rc('xtick', labelsize=MEDIUM_SIZE)    # fontsize of the tick labels\n",
    "plt.rc('ytick', labelsize=MEDIUM_SIZE)    # fontsize of the tick labels\n",
    "plt.rc('legend', fontsize=MEDIUM_SIZE)    # legend fontsize\n",
    "\n",
    "fig, (ax1, ax2) = plt.subplots(2, 1, sharex=True, figsize =(18, 10))\n",
    "\n",
    "fig.subplots_adjust(hspace=0.05)  # adjust space between axes\n",
    "\n",
    "# plot the same data on both axes (broken axis can accomodate for outliers this way)\n",
    "ax1.plot(xvalretweeters, (retweetcount-retweeterscollected)/retweetcount, label = 'retweets', alpha = .8, color='tab:orange', linewidth = 0.5)\n",
    "ax1.plot(xvallikers, (likecount-likerscollected)/likecount, label = 'likes', alpha = .6, color = 'tab:blue', linewidth=.5)\n",
    "\n",
    "\n",
    "ax2.plot(xvallikers, (likecount-likerscollected)/likecount, label = 'Received likes', alpha = 0.6, color = 'tab:blue', linewidth = .5)\n",
    "ax3 = ax1.twinx()\n",
    "ax3.plot(xvallikers, likesseries, label = 'Received likes', alpha = 0.8, color = 'tab:blue', linestyle='dotted')\n",
    "ax3.plot(xvalretweeters, retweetsseries, label = 'Received retweets', alpha = 0.8, color = 'tab:orange', linestyle='dotted')\n",
    "\n",
    "ax2.set_xlabel(\"Tweets\")\n",
    "\n",
    "\n",
    "# zoom-in / limit the view to different portions of the data\n",
    "ax2.set_ylim(-4.09, -4.0)  # outliers only\n",
    "ax1.set_ylim(-1.3, .7)  # most of the data (-1.3, .7\n",
    "\n",
    "    # hide the spines between ax and ax2\n",
    "ax1.spines.bottom.set_visible(False)\n",
    "ax2.spines.top.set_visible(False)\n",
    "ax3.spines.bottom.set_visible(False)\n",
    "ax1.xaxis.tick_top()\n",
    "ax1.tick_params(labeltop=False)  # don't put tick labels at the top\n",
    "ax3.tick_params(labeltop=False)  # don't put tick labels at the top\n",
    "ax2.tick_params(labeltop=False)  # don't put tick labels at the top\n",
    "\n",
    "ax2.xaxis.tick_bottom()\n",
    "\n",
    "d = .2  # proportion of vertical to horizontal extent of the slanted line\n",
    "kwargs = dict(marker=[(-1, -d), (1, d)], markersize=12,\n",
    "              linestyle=\"none\", color='k', mec='k', mew=1, clip_on=False)\n",
    "ax1.plot([0, 1], [0, 0], transform=ax1.transAxes, **kwargs)\n",
    "ax2.plot([0, 1], [1, 1], transform=ax2.transAxes, **kwargs)\n",
    "\n",
    "ax1.set_ylabel('Share of likes/retweets not collected (lines)')\n",
    "ax3.set_ylabel('Received likes/retweets (dotted)')\n",
    "\n",
    "ax1.legend(['Retweets', 'Likes'], loc = 'upper right',  prop={'size': 13})\n",
    "\n",
    "plt.savefig('howmanymissed.pdf', bbox_inches='tight')"
   ]
  },
  {
   "cell_type": "code",
   "execution_count": null,
   "id": "a9f88d1d-7cf9-4798-abb0-ee3d3fd97648",
   "metadata": {
    "vscode": {
     "languageId": "shellscript"
    }
   },
   "outputs": [],
   "source": [
    "# inspect numbers more closely\n",
    "d = {'collectedlikers': likerscollected, 'likecount': likecount, 'difference': likecount-likerscollected, 'percent': ((likecount-likerscollected)/likecount)}\n",
    "inspectlikes = pd.DataFrame(data=d)\n",
    "inspectlikes"
   ]
  },
  {
   "cell_type": "code",
   "execution_count": null,
   "id": "77373940-c22d-4607-b6c3-adc2e4d64539",
   "metadata": {
    "vscode": {
     "languageId": "shellscript"
    }
   },
   "outputs": [],
   "source": [
    "# inspect numbers more closely\n",
    "d = {'collectedretweeters': retweeterscollected, 'retweetcount': retweetcount, 'difference': retweetcount-retweeterscollected, 'percent': ((retweetcount-retweeterscollected)/retweetcount)}\n",
    "inspectretweets = pd.DataFrame(data=d)\n",
    "inspectretweets"
   ]
  },
  {
   "cell_type": "code",
   "execution_count": null,
   "id": "6812a306-c70f-4422-a2b8-2a542398cb6a",
   "metadata": {
    "vscode": {
     "languageId": "shellscript"
    }
   },
   "outputs": [],
   "source": [
    "# *retracted likes*\n",
    "# In <len(neg)/len(inspectlikes)> % the script collects 10 likes or more too many\n",
    "neg = inspectlikes[inspectlikes['difference'] <-10]\n",
    "len(neg)/len(inspectlikes) "
   ]
  },
  {
   "cell_type": "code",
   "execution_count": null,
   "id": "8016da5b-f670-4d64-90ec-3bebdf7519c2",
   "metadata": {
    "vscode": {
     "languageId": "shellscript"
    }
   },
   "outputs": [],
   "source": [
    "# *retracted retweets*\n",
    "# In <len(neg)/len(inspectretweets)> the script collects 10 retweets or more too many\n",
    "neg = inspectretweets[inspectretweets['difference'] <-10]\n",
    "len(neg)/len(inspectretweets) "
   ]
  },
  {
   "cell_type": "code",
   "execution_count": null,
   "id": "4af725a0-0fc4-4e57-8219-7e1b647811ca",
   "metadata": {
    "vscode": {
     "languageId": "shellscript"
    }
   },
   "outputs": [],
   "source": [
    "# *likes placed in large, simulanous batches* \n",
    "# In <len(pos)/len(inspectlikes)> % of tweets the script misses out on 10 or more likes\n",
    "pos = inspectlikes[inspectlikes['difference'] >10]\n",
    "len(pos)/len(inspectlikes)"
   ]
  },
  {
   "cell_type": "code",
   "execution_count": null,
   "id": "f245fec1-ecbb-4f3c-aabf-3be366cee386",
   "metadata": {
    "vscode": {
     "languageId": "shellscript"
    }
   },
   "outputs": [],
   "source": [
    "# *retweets placed in large, simulanous batches* \n",
    "# In <len(pos)/len(inspectretweets)> % of tweets the script misses out on 10 or more retweets\n",
    "pos = inspectretweets[inspectretweets['difference'] >10]\n",
    "len(pos)/len(inspectretweets)"
   ]
  },
  {
   "cell_type": "code",
   "execution_count": null,
   "id": "bc9c2d84-b91d-4f21-b623-a70835ff6054",
   "metadata": {
    "vscode": {
     "languageId": "shellscript"
    }
   },
   "outputs": [],
   "source": [
    "# # likes placed in large, simulanous batches\n",
    "# In <len(pos)/len(inspectlikes)> % of tweets the script misses out on more than 10% of likes\n",
    "pos = inspectlikes[inspectlikes['percent'] >.1]\n",
    "len(pos)/len(inspectlikes)"
   ]
  },
  {
   "cell_type": "code",
   "execution_count": null,
   "id": "1d0e83cf-1b04-4965-8f3b-5c5b5d503987",
   "metadata": {
    "vscode": {
     "languageId": "shellscript"
    }
   },
   "outputs": [],
   "source": [
    "# *retracted likes*\n",
    "# In <len(pos)/len(inspectlikes)> % the script collects 10% or more too many likes\n",
    "pos = inspectlikes[inspectlikes['percent'] <-.1]\n",
    "len(pos)/len(inspectlikes)"
   ]
  },
  {
   "cell_type": "code",
   "execution_count": null,
   "id": "0884fe4c-6d0a-4357-95b3-4b201c65d8d5",
   "metadata": {
    "vscode": {
     "languageId": "shellscript"
    }
   },
   "outputs": [],
   "source": [
    "# *retracted retweets*\n",
    "# In <len(pos)/len(inspectretweets)> % the script collects 10% or more too many retweets\n",
    "pos = inspectretweets[inspectretweets['percent'] >.1] \n",
    "len(pos)/len(inspectretweets)"
   ]
  },
  {
   "cell_type": "code",
   "execution_count": null,
   "id": "e6103c7a-ac0a-46e8-8513-cdb50fd496b4",
   "metadata": {
    "vscode": {
     "languageId": "shellscript"
    }
   },
   "outputs": [],
   "source": [
    "# In <len(pos)/len(inspectretweets)> % of tweets the script misses out on more than 10% of retweets\n",
    "pos = inspectretweets[inspectretweets['percent'] <-.1] \n",
    "len(pos)/len(inspectretweets)"
   ]
  },
  {
   "cell_type": "code",
   "execution_count": null,
   "id": "dcd1598f-ab65-43dc-a127-92aaa34e1d87",
   "metadata": {
    "vscode": {
     "languageId": "shellscript"
    }
   },
   "outputs": [],
   "source": [
    "# The script collects \"too many\" likers in <len(notzero)/len(inspectlikes)> % of cases\n",
    "notzero = inspectlikes[inspectlikes['difference'] < 0]\n",
    "len(notzero)/len(inspectlikes)"
   ]
  },
  {
   "cell_type": "code",
   "execution_count": null,
   "id": "0116c2e1-9c19-44d5-b51c-17360b63edc5",
   "metadata": {
    "vscode": {
     "languageId": "shellscript"
    }
   },
   "outputs": [],
   "source": [
    "# The script collects \"too many\" retweeters in <len(notzero)/len(inspectretweets)> % of cases\n",
    "notzero = inspectretweets[inspectretweets['difference'] < 0]\n",
    "len(notzero)/len(inspectretweets)"
   ]
  },
  {
   "cell_type": "code",
   "execution_count": null,
   "id": "2a20bc12-cab4-4f72-90f7-53821d95cb76",
   "metadata": {
    "vscode": {
     "languageId": "shellscript"
    }
   },
   "outputs": [],
   "source": [
    "# The script collects the exactly right number of likers in in <len(notzero)/len(inspectlikes)> % of cases \n",
    "notzero = inspectlikes[inspectlikes['difference'] == 0]\n",
    "len(notzero)/len(inspectlikes)"
   ]
  },
  {
   "cell_type": "code",
   "execution_count": null,
   "id": "3d427010-75a4-4c05-8875-5dd1a6ea444b",
   "metadata": {
    "vscode": {
     "languageId": "shellscript"
    }
   },
   "outputs": [],
   "source": [
    "# The script collects the exactly right number of retweeters in in <len(notzero)/len(inspectretweets)> % of cases \n",
    "notzero = inspectretweets[inspectretweets['difference'] == 0]\n",
    "len(notzero)/len(inspectretweets)"
   ]
  },
  {
   "cell_type": "code",
   "execution_count": null,
   "id": "d5f59bfd-c9dd-4f15-8cc8-6c80e92edaf8",
   "metadata": {
    "vscode": {
     "languageId": "shellscript"
    }
   },
   "outputs": [],
   "source": [
    "# Inspect (highly popular) tweets in terms of like count\n",
    "likesseries = inspectlikes['likecount'].squeeze()\n",
    "likesseries"
   ]
  },
  {
   "cell_type": "code",
   "execution_count": null,
   "id": "d316f12f-bad5-48ef-a3b5-860c7a65d36e",
   "metadata": {
    "vscode": {
     "languageId": "shellscript"
    }
   },
   "outputs": [],
   "source": [
    "# Inspect (highly popular) tweets in terms of retweet count\n",
    "retweetsseries = inspectretweets['retweetcount'].squeeze()\n",
    "retweetsseries"
   ]
  },
  {
   "cell_type": "code",
   "execution_count": null,
   "id": "d3445feb-e74e-410d-ad83-abaeb88f4e35",
   "metadata": {
    "vscode": {
     "languageId": "shellscript"
    }
   },
   "outputs": [],
   "source": [
    "from statistics import median"
   ]
  },
  {
   "cell_type": "code",
   "execution_count": null,
   "id": "1d9efa16-0df8-4072-9373-28dd066361e8",
   "metadata": {
    "vscode": {
     "languageId": "shellscript"
    }
   },
   "outputs": [],
   "source": [
    "# Median like count\n",
    "median(inspectlikes['likecount'].squeeze())"
   ]
  },
  {
   "cell_type": "code",
   "execution_count": null,
   "id": "a3b85f6e-82a1-4cbe-a9ef-ac7dc33c69c7",
   "metadata": {
    "vscode": {
     "languageId": "shellscript"
    }
   },
   "outputs": [],
   "source": [
    "# Median retweet count\n",
    "median(inspectretweets['retweetcount'].squeeze())"
   ]
  },
  {
   "cell_type": "markdown",
   "id": "723c27e0-8015-4617-9aa2-903335970301",
   "metadata": {},
   "source": [
    "## D. Understanding user activity"
   ]
  },
  {
   "cell_type": "markdown",
   "id": "8c76e79d-591e-444b-a905-bccccebcd87e",
   "metadata": {},
   "source": [
    "### How many likes/retweets did the users place? How many unique likers/retweeters are in the dataset? "
   ]
  },
  {
   "cell_type": "code",
   "execution_count": null,
   "id": "08459ff9-34f2-4463-87fb-980681ae2c4f",
   "metadata": {
    "vscode": {
     "languageId": "shellscript"
    }
   },
   "outputs": [],
   "source": [
    "# Most active user placed <numberlikes_col.max()> likes\n",
    "numberlikes_col.max()"
   ]
  },
  {
   "cell_type": "code",
   "execution_count": null,
   "id": "5e8a1d4c-d332-4d32-a074-c9b2c96f500f",
   "metadata": {
    "vscode": {
     "languageId": "shellscript"
    }
   },
   "outputs": [],
   "source": [
    "# Most active user placed <numberlikes_col.max()> retweets\n",
    "numberretweets_col.max()"
   ]
  },
  {
   "cell_type": "code",
   "execution_count": null,
   "id": "7a25c54b-3ebd-4458-bd69-35676522690f",
   "metadata": {
    "vscode": {
     "languageId": "shellscript"
    }
   },
   "outputs": [],
   "source": [
    "# make frequency table\n",
    "freqlikers = numberlikes_col.value_counts()\n",
    "freqlikers\n",
    "\n",
    "freqretweeters = numberretweets_col.value_counts()\n",
    "freqretweeters"
   ]
  },
  {
   "cell_type": "code",
   "execution_count": null,
   "id": "7f6e4d2a-6f43-49f5-8f86-014a5307d21f",
   "metadata": {
    "vscode": {
     "languageId": "shellscript"
    }
   },
   "outputs": [],
   "source": [
    "x = np.array(numberlikes_col)\n",
    "placedlikes = np.unique(x)\n",
    "\n",
    "x = np.array(numberretweets_col)\n",
    "placedretweets = np.unique(x)"
   ]
  },
  {
   "cell_type": "code",
   "execution_count": null,
   "id": "0494fb0b-dbec-46a9-89d6-322f26530d0a",
   "metadata": {
    "vscode": {
     "languageId": "shellscript"
    }
   },
   "outputs": [],
   "source": [
    "# bring things together for frequency table\n",
    "d = {'placedlikes': placedlikes, 'freqlikers': freqlikers}\n",
    "freqtable_l = pd.DataFrame(data=d)\n",
    "freqtable_l\n",
    "\n",
    "# bring things together for frequency table\n",
    "d = {'placedretweets': placedretweets, 'freqretweeters': freqretweeters}\n",
    "freqtable_r = pd.DataFrame(data=d)\n",
    "freqtable_r"
   ]
  },
  {
   "cell_type": "code",
   "execution_count": null,
   "id": "2fcbf0a1-d3c8-43c6-857d-3e97903cc422",
   "metadata": {
    "vscode": {
     "languageId": "shellscript"
    }
   },
   "outputs": [],
   "source": [
    "plt.plot(freqtable_l['placedlikes'], freqtable['freqlikers'])"
   ]
  },
  {
   "cell_type": "code",
   "execution_count": null,
   "id": "806d366b-4f85-4436-bc7e-adfdcda3404c",
   "metadata": {
    "vscode": {
     "languageId": "shellscript"
    }
   },
   "outputs": [],
   "source": [
    "freqtable_l"
   ]
  },
  {
   "cell_type": "code",
   "execution_count": null,
   "id": "43d67880-7d5d-4c16-b155-2ccdfc9f90fc",
   "metadata": {
    "vscode": {
     "languageId": "shellscript"
    }
   },
   "outputs": [],
   "source": [
    "freqtable_l['placedlikes']"
   ]
  },
  {
   "cell_type": "code",
   "execution_count": null,
   "id": "b1e497a1-2f90-4836-8d7e-e93cabb14769",
   "metadata": {
    "vscode": {
     "languageId": "shellscript"
    }
   },
   "outputs": [],
   "source": [
    "y_pos_r = np.arange(len(bars_r))\n",
    "y_pos_r\n",
    "len(y_pos_r)"
   ]
  },
  {
   "cell_type": "code",
   "execution_count": null,
   "id": "682014c1-3ffa-4225-8cb4-d25d5e2985b5",
   "metadata": {
    "vscode": {
     "languageId": "shellscript"
    }
   },
   "outputs": [],
   "source": [
    "SMALL_SIZE = 8\n",
    "MEDIUM_SIZE = 16\n",
    "BIGGER_SIZE = 12\n",
    "\n",
    "plt.rc('font', size=MEDIUM_SIZE)          # controls default text sizes\n",
    "plt.rc('axes', titlesize=MEDIUM_SIZE)     # fontsize of the axes title\n",
    "plt.rc('axes', labelsize=MEDIUM_SIZE)    # fontsize of the x and y labels\n",
    "plt.rc('xtick', labelsize=MEDIUM_SIZE)    # fontsize of the tick labels\n",
    "plt.rc('ytick', labelsize=MEDIUM_SIZE)    # fontsize of the tick labels\n",
    "plt.rc('legend', fontsize=MEDIUM_SIZE)    # legend fontsize\n",
    "\n",
    "fig, ax = plt.subplots(figsize =(20, 10))\n",
    "bars = freqtable_l['placedlikes'].iloc[0:50,]\n",
    "y_pos = np.arange(len(bars)+1)\n",
    "y_pos = y_pos[1:51]\n",
    "\n",
    "bars_r = freqtable_r['placedretweets'].iloc[0:50,]\n",
    "y_pos_r = np.arange(len(bars_r)+1)\n",
    "y_pos_r = y_pos_r[1:51]\n",
    "n = 1  # Keeps every 7th label\n",
    "[l.set_visible(False) for (i,l) in enumerate(ax.xaxis.get_ticklabels()) if i % n != 0]\n",
    "\n",
    "# Create bars\n",
    "plt.bar(y_pos-.3, round(freqtable_l['freqlikers'].iloc[0:50,]/sum(freqtable_l['freqlikers']),3), width = 0.45, alpha = .9, label = 'Likes')\n",
    "plt.bar(y_pos_r+.2, round(freqtable_r['freqretweeters'].iloc[0:50,]/sum(freqtable_r['freqretweeters']),3), width = 0.45, alpha =.6, label = 'Retweets')\n",
    "\n",
    "\n",
    "# Create names on the axis\n",
    "#plt.xticks(y_pos, bars)\n",
    "plt.xlabel(\"Number of likes/retweets placed per liker\")\n",
    "plt.ylabel(\"share of likers/retweeters\")\n",
    "\n",
    "plt.legend(loc=\"upper right\", prop={'size': 13})\n",
    "\n",
    "# Show graphic\n",
    "# plt.show()\n",
    "#import tikzplotlib\n",
    "#tikzplotlib.clean_figure()\n",
    "#tikzplotlib.save(\"howmanyplacedlikes_lowerend.tex\", axis_height='7cm', axis_width='15cm') \n",
    "plt.savefig('howmanyplacedlikes_lowerend.pdf', bbox_inches='tight')\n",
    "\n"
   ]
  },
  {
   "cell_type": "code",
   "execution_count": null,
   "id": "eb8c5ab6-b112-4be3-8a2f-986d4ef094ec",
   "metadata": {
    "vscode": {
     "languageId": "shellscript"
    }
   },
   "outputs": [],
   "source": [
    "# Other metrics \n",
    "round(sum(freqtable_l['freqlikers'].iloc[51:655,]))#/sum(freqtable_l['freqlikers']),3) # % of users like more than 50 times in a month"
   ]
  },
  {
   "cell_type": "code",
   "execution_count": null,
   "id": "aa877b65-5db6-4673-a738-f414ce577c57",
   "metadata": {
    "vscode": {
     "languageId": "shellscript"
    }
   },
   "outputs": [],
   "source": [
    "round(sum(freqtable_l['freqlikers'].iloc[51:655,])/sum(freqtable_l['freqlikers']),3) # % of users like more than 50 times in a month"
   ]
  },
  {
   "cell_type": "code",
   "execution_count": null,
   "id": "62a3266f-b28d-4f78-a531-e67f4f2f4f17",
   "metadata": {
    "vscode": {
     "languageId": "shellscript"
    }
   },
   "outputs": [],
   "source": [
    "round(sum(freqtable_r['freqretweeters'].iloc[51:655,])/sum(freqtable_r['freqretweeters']),3) # % of users retweet more than 50 times in a month"
   ]
  },
  {
   "cell_type": "code",
   "execution_count": null,
   "id": "8b5287c1-e9bb-452e-b86d-dd772591d5f8",
   "metadata": {
    "vscode": {
     "languageId": "shellscript"
    }
   },
   "outputs": [],
   "source": [
    "round(sum(freqtable_l['freqlikers'].iloc[1:655,])/sum(freqtable_l['freqlikers']),3) # % of users like more than one post per month "
   ]
  },
  {
   "cell_type": "code",
   "execution_count": null,
   "id": "2239cc25-cfeb-4f58-b82b-548ada0ebdc0",
   "metadata": {
    "vscode": {
     "languageId": "shellscript"
    }
   },
   "outputs": [],
   "source": [
    "round(sum(freqtable_r['freqretweeters'].iloc[1:655,])/sum(freqtable_r['freqretweeters']),3) # % of users retweet more than one post per monthr"
   ]
  },
  {
   "cell_type": "code",
   "execution_count": null,
   "id": "db6e4d68-161d-46aa-afdf-c9cb2da572d0",
   "metadata": {
    "vscode": {
     "languageId": "shellscript"
    }
   },
   "outputs": [],
   "source": [
    "round(sum(freqtable_l['freqlikers'].iloc[2:655,])/sum(freqtable_l['freqlikers']),3) # % like more than 2 post per month "
   ]
  },
  {
   "cell_type": "code",
   "execution_count": null,
   "id": "3723f66a-4c3f-4e53-87e1-9f8d729a47b5",
   "metadata": {
    "vscode": {
     "languageId": "shellscript"
    }
   },
   "outputs": [],
   "source": [
    "round(sum(freqtable_r['freqretweeters'].iloc[2:655,])/sum(freqtable_r['freqretweeters']),3) # % retweet more than 2 posts per month "
   ]
  },
  {
   "cell_type": "code",
   "execution_count": null,
   "id": "273d86ee-1fdb-4b4e-933b-0d801efe33c7",
   "metadata": {
    "vscode": {
     "languageId": "shellscript"
    }
   },
   "outputs": [],
   "source": [
    "round(sum(freqtable_l['freqlikers'].iloc[3:655,])/sum(freqtable_l['freqlikers']),3) # % like more than 3 posts per month "
   ]
  },
  {
   "cell_type": "code",
   "execution_count": null,
   "id": "fac38b72-8488-4d29-bad9-a78bc7c917d1",
   "metadata": {
    "vscode": {
     "languageId": "shellscript"
    }
   },
   "outputs": [],
   "source": [
    "round(sum(freqtable_r['freqretweeters'].iloc[3:655,])/sum(freqtable_r['freqretweeters']),3) # % retweet more than 3 post per month "
   ]
  },
  {
   "cell_type": "code",
   "execution_count": null,
   "id": "06dca573-dd04-40c8-9a47-64e519e4da6c",
   "metadata": {
    "vscode": {
     "languageId": "shellscript"
    }
   },
   "outputs": [],
   "source": [
    "round(sum(freqtable_l['freqlikers'].iloc[4:655])/sum(freqtable_l['freqlikers']),3) # % like more than 4 post per month (5 or more)"
   ]
  },
  {
   "cell_type": "code",
   "execution_count": null,
   "id": "945e44b8-5f90-4120-9a24-9d2737f1d685",
   "metadata": {
    "vscode": {
     "languageId": "shellscript"
    }
   },
   "outputs": [],
   "source": [
    "round(sum(freqtable_r['freqretweeters'].iloc[4:655])/sum(freqtable_r['freqretweeters']),3) # % retweet more than 4 post per month "
   ]
  },
  {
   "cell_type": "code",
   "execution_count": null,
   "id": "d2febc3b-a5d4-43a8-85f9-04fcbd92c53a",
   "metadata": {
    "vscode": {
     "languageId": "shellscript"
    }
   },
   "outputs": [],
   "source": [
    "sum(freqtable_l['freqlikers'].iloc) # number of likers"
   ]
  },
  {
   "cell_type": "code",
   "execution_count": null,
   "id": "039ce883-7c3e-43c4-936c-b5bbe6681d9d",
   "metadata": {
    "vscode": {
     "languageId": "shellscript"
    }
   },
   "outputs": [],
   "source": [
    "sum(freqtable_r['freqretweeters'].iloc) # number of retweeters"
   ]
  }
 ],
 "metadata": {
  "kernelspec": {
   "display_name": "Bash",
   "language": "bash",
   "name": "bash"
  },
  "language_info": {
   "codemirror_mode": {
    "name": "ipython",
    "version": 3
   },
   "file_extension": ".py",
   "mimetype": "text/x-python",
   "name": "bash",
   "nbconvert_exporter": "python",
   "pygments_lexer": "ipython3",
   "version": "3.10.6"
  },
  "vscode": {
   "interpreter": {
    "hash": "916dbcbb3f70747c44a77c7bcd40155683ae19c65e1c03b4aa3499c5328201f1"
   }
  }
 },
 "nbformat": 4,
 "nbformat_minor": 5
}
